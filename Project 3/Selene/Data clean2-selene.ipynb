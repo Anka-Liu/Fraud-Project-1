{
 "cells": [
  {
   "cell_type": "code",
   "execution_count": 1,
   "metadata": {},
   "outputs": [],
   "source": [
    "import pandas as pd\n",
    "import scipy.stats\n",
    "import numpy as np\n",
    "import datetime as dt\n",
    "import seaborn as sns\n",
    "import matplotlib.pyplot as plt\n",
    "import math"
   ]
  },
  {
   "cell_type": "code",
   "execution_count": 2,
   "metadata": {},
   "outputs": [],
   "source": [
    "data = pd.read_excel('card transactions.xlsx', converters={'Merchnum': lambda x: str(x)})"
   ]
  },
  {
   "cell_type": "code",
   "execution_count": 3,
   "metadata": {},
   "outputs": [
    {
     "data": {
      "text/plain": [
       "(96753, 10)"
      ]
     },
     "execution_count": 3,
     "metadata": {},
     "output_type": "execute_result"
    }
   ],
   "source": [
    "data.shape"
   ]
  },
  {
   "cell_type": "code",
   "execution_count": 4,
   "metadata": {},
   "outputs": [
    {
     "data": {
      "text/html": [
       "<div>\n",
       "<style scoped>\n",
       "    .dataframe tbody tr th:only-of-type {\n",
       "        vertical-align: middle;\n",
       "    }\n",
       "\n",
       "    .dataframe tbody tr th {\n",
       "        vertical-align: top;\n",
       "    }\n",
       "\n",
       "    .dataframe thead th {\n",
       "        text-align: right;\n",
       "    }\n",
       "</style>\n",
       "<table border=\"1\" class=\"dataframe\">\n",
       "  <thead>\n",
       "    <tr style=\"text-align: right;\">\n",
       "      <th></th>\n",
       "      <th>Recnum</th>\n",
       "      <th>Cardnum</th>\n",
       "      <th>Date</th>\n",
       "      <th>Merchnum</th>\n",
       "      <th>Merch description</th>\n",
       "      <th>Merch state</th>\n",
       "      <th>Merch zip</th>\n",
       "      <th>Transtype</th>\n",
       "      <th>Amount</th>\n",
       "      <th>Fraud</th>\n",
       "    </tr>\n",
       "  </thead>\n",
       "  <tbody>\n",
       "    <tr>\n",
       "      <th>0</th>\n",
       "      <td>1</td>\n",
       "      <td>5142190439</td>\n",
       "      <td>2010-01-01</td>\n",
       "      <td>5509006296254</td>\n",
       "      <td>FEDEX SHP 12/23/09 AB#</td>\n",
       "      <td>TN</td>\n",
       "      <td>38118.0</td>\n",
       "      <td>P</td>\n",
       "      <td>3.62</td>\n",
       "      <td>0</td>\n",
       "    </tr>\n",
       "    <tr>\n",
       "      <th>1</th>\n",
       "      <td>2</td>\n",
       "      <td>5142183973</td>\n",
       "      <td>2010-01-01</td>\n",
       "      <td>61003026333</td>\n",
       "      <td>SERVICE MERCHANDISE #81</td>\n",
       "      <td>MA</td>\n",
       "      <td>1803.0</td>\n",
       "      <td>P</td>\n",
       "      <td>31.42</td>\n",
       "      <td>0</td>\n",
       "    </tr>\n",
       "    <tr>\n",
       "      <th>2</th>\n",
       "      <td>3</td>\n",
       "      <td>5142131721</td>\n",
       "      <td>2010-01-01</td>\n",
       "      <td>4503082993600</td>\n",
       "      <td>OFFICE DEPOT #191</td>\n",
       "      <td>MD</td>\n",
       "      <td>20706.0</td>\n",
       "      <td>P</td>\n",
       "      <td>178.49</td>\n",
       "      <td>0</td>\n",
       "    </tr>\n",
       "    <tr>\n",
       "      <th>3</th>\n",
       "      <td>4</td>\n",
       "      <td>5142148452</td>\n",
       "      <td>2010-01-01</td>\n",
       "      <td>5509006296254</td>\n",
       "      <td>FEDEX SHP 12/28/09 AB#</td>\n",
       "      <td>TN</td>\n",
       "      <td>38118.0</td>\n",
       "      <td>P</td>\n",
       "      <td>3.62</td>\n",
       "      <td>0</td>\n",
       "    </tr>\n",
       "    <tr>\n",
       "      <th>4</th>\n",
       "      <td>5</td>\n",
       "      <td>5142190439</td>\n",
       "      <td>2010-01-01</td>\n",
       "      <td>5509006296254</td>\n",
       "      <td>FEDEX SHP 12/23/09 AB#</td>\n",
       "      <td>TN</td>\n",
       "      <td>38118.0</td>\n",
       "      <td>P</td>\n",
       "      <td>3.62</td>\n",
       "      <td>0</td>\n",
       "    </tr>\n",
       "  </tbody>\n",
       "</table>\n",
       "</div>"
      ],
      "text/plain": [
       "   Recnum     Cardnum       Date       Merchnum        Merch description  \\\n",
       "0       1  5142190439 2010-01-01  5509006296254   FEDEX SHP 12/23/09 AB#   \n",
       "1       2  5142183973 2010-01-01    61003026333  SERVICE MERCHANDISE #81   \n",
       "2       3  5142131721 2010-01-01  4503082993600        OFFICE DEPOT #191   \n",
       "3       4  5142148452 2010-01-01  5509006296254   FEDEX SHP 12/28/09 AB#   \n",
       "4       5  5142190439 2010-01-01  5509006296254   FEDEX SHP 12/23/09 AB#   \n",
       "\n",
       "  Merch state  Merch zip Transtype  Amount  Fraud  \n",
       "0          TN    38118.0         P    3.62      0  \n",
       "1          MA     1803.0         P   31.42      0  \n",
       "2          MD    20706.0         P  178.49      0  \n",
       "3          TN    38118.0         P    3.62      0  \n",
       "4          TN    38118.0         P    3.62      0  "
      ]
     },
     "execution_count": 4,
     "metadata": {},
     "output_type": "execute_result"
    }
   ],
   "source": [
    "data.head()"
   ]
  },
  {
   "cell_type": "code",
   "execution_count": 5,
   "metadata": {},
   "outputs": [],
   "source": [
    "data.columns=['record','card','date','merch#','merchdes','merchstate','merchzip','transtype','amount','fraud']"
   ]
  },
  {
   "cell_type": "code",
   "execution_count": 6,
   "metadata": {},
   "outputs": [],
   "source": [
    "data['date']=pd.to_datetime(data['date'],format='%Y-%m-%d')"
   ]
  },
  {
   "cell_type": "code",
   "execution_count": 7,
   "metadata": {},
   "outputs": [],
   "source": [
    "data['card']=data['card'].astype(str)"
   ]
  },
  {
   "cell_type": "code",
   "execution_count": 8,
   "metadata": {},
   "outputs": [
    {
     "data": {
      "text/plain": [
       "record                 int64\n",
       "card                  object\n",
       "date          datetime64[ns]\n",
       "merch#                object\n",
       "merchdes              object\n",
       "merchstate            object\n",
       "merchzip             float64\n",
       "transtype             object\n",
       "amount               float64\n",
       "fraud                  int64\n",
       "dtype: object"
      ]
     },
     "execution_count": 8,
     "metadata": {},
     "output_type": "execute_result"
    }
   ],
   "source": [
    "data.dtypes"
   ]
  },
  {
   "cell_type": "code",
   "execution_count": 9,
   "metadata": {},
   "outputs": [],
   "source": [
    "df=data.copy()"
   ]
  },
  {
   "cell_type": "markdown",
   "metadata": {},
   "source": [
    "## Fix Data Type"
   ]
  },
  {
   "cell_type": "markdown",
   "metadata": {},
   "source": [
    "### Remove outlier"
   ]
  },
  {
   "cell_type": "code",
   "execution_count": 10,
   "metadata": {},
   "outputs": [],
   "source": [
    "df=df[df['amount']<max(df['amount'])]"
   ]
  },
  {
   "cell_type": "code",
   "execution_count": 11,
   "metadata": {},
   "outputs": [
    {
     "data": {
      "text/plain": [
       "47339    47900.00\n",
       "59516    30372.46\n",
       "80886    28392.84\n",
       "89673    27218.00\n",
       "1103     26910.00\n",
       "           ...   \n",
       "47165        0.08\n",
       "57855        0.02\n",
       "78387        0.01\n",
       "91179        0.01\n",
       "56124        0.01\n",
       "Name: amount, Length: 96752, dtype: float64"
      ]
     },
     "execution_count": 11,
     "metadata": {},
     "output_type": "execute_result"
    }
   ],
   "source": [
    "df['amount'].sort_values(ascending=False)"
   ]
  },
  {
   "cell_type": "markdown",
   "metadata": {},
   "source": [
    "### Keep only transaction type"
   ]
  },
  {
   "cell_type": "code",
   "execution_count": 12,
   "metadata": {},
   "outputs": [],
   "source": [
    "df = df[df['transtype']=='P']"
   ]
  },
  {
   "cell_type": "code",
   "execution_count": 13,
   "metadata": {},
   "outputs": [
    {
     "data": {
      "text/plain": [
       "(96397, 10)"
      ]
     },
     "execution_count": 13,
     "metadata": {},
     "output_type": "execute_result"
    }
   ],
   "source": [
    "df.shape"
   ]
  },
  {
   "cell_type": "markdown",
   "metadata": {},
   "source": [
    "## Filling Missing Values"
   ]
  },
  {
   "cell_type": "code",
   "execution_count": 14,
   "metadata": {},
   "outputs": [],
   "source": [
    "from fuzzywuzzy import fuzz\n",
    "from fuzzywuzzy import process"
   ]
  },
  {
   "cell_type": "code",
   "execution_count": 15,
   "metadata": {},
   "outputs": [
    {
     "data": {
      "text/plain": [
       "record        100.000000\n",
       "card          100.000000\n",
       "date          100.000000\n",
       "merch#         96.682469\n",
       "merchdes      100.000000\n",
       "merchstate     98.941876\n",
       "merchzip       95.539280\n",
       "transtype     100.000000\n",
       "amount        100.000000\n",
       "fraud         100.000000\n",
       "dtype: float64"
      ]
     },
     "execution_count": 15,
     "metadata": {},
     "output_type": "execute_result"
    }
   ],
   "source": [
    "numrecords = len(df)\n",
    "df.count() * 100 /numrecords"
   ]
  },
  {
   "cell_type": "markdown",
   "metadata": {},
   "source": [
    "### Merchnum"
   ]
  },
  {
   "cell_type": "code",
   "execution_count": 16,
   "metadata": {},
   "outputs": [],
   "source": [
    "merchnumnull=df[df['merch#'].isnull()]\n",
    "merchnumgood=df[df['merch#'].notnull()]"
   ]
  },
  {
   "cell_type": "code",
   "execution_count": 17,
   "metadata": {},
   "outputs": [
    {
     "data": {
      "text/html": [
       "<div>\n",
       "<style scoped>\n",
       "    .dataframe tbody tr th:only-of-type {\n",
       "        vertical-align: middle;\n",
       "    }\n",
       "\n",
       "    .dataframe tbody tr th {\n",
       "        vertical-align: top;\n",
       "    }\n",
       "\n",
       "    .dataframe thead th {\n",
       "        text-align: right;\n",
       "    }\n",
       "</style>\n",
       "<table border=\"1\" class=\"dataframe\">\n",
       "  <thead>\n",
       "    <tr style=\"text-align: right;\">\n",
       "      <th></th>\n",
       "      <th>record</th>\n",
       "      <th>card</th>\n",
       "      <th>date</th>\n",
       "      <th>merch#</th>\n",
       "      <th>merchdes</th>\n",
       "      <th>merchstate</th>\n",
       "      <th>merchzip</th>\n",
       "      <th>transtype</th>\n",
       "      <th>amount</th>\n",
       "      <th>fraud</th>\n",
       "    </tr>\n",
       "  </thead>\n",
       "  <tbody>\n",
       "    <tr>\n",
       "      <th>115</th>\n",
       "      <td>116</td>\n",
       "      <td>5142182128</td>\n",
       "      <td>2010-01-03</td>\n",
       "      <td>NaN</td>\n",
       "      <td>GRAINGER #973</td>\n",
       "      <td>IL</td>\n",
       "      <td>60089.0</td>\n",
       "      <td>P</td>\n",
       "      <td>327.34</td>\n",
       "      <td>0</td>\n",
       "    </tr>\n",
       "    <tr>\n",
       "      <th>135</th>\n",
       "      <td>136</td>\n",
       "      <td>5142126842</td>\n",
       "      <td>2010-01-03</td>\n",
       "      <td>NaN</td>\n",
       "      <td>AUTOMATED OFFICE PRODU</td>\n",
       "      <td>MD</td>\n",
       "      <td>20706.0</td>\n",
       "      <td>P</td>\n",
       "      <td>2110.00</td>\n",
       "      <td>0</td>\n",
       "    </tr>\n",
       "    <tr>\n",
       "      <th>168</th>\n",
       "      <td>169</td>\n",
       "      <td>5142132574</td>\n",
       "      <td>2010-01-03</td>\n",
       "      <td>NaN</td>\n",
       "      <td>ROLL CALL NEWSPAPER</td>\n",
       "      <td>DC</td>\n",
       "      <td>20001.0</td>\n",
       "      <td>P</td>\n",
       "      <td>104.69</td>\n",
       "      <td>0</td>\n",
       "    </tr>\n",
       "    <tr>\n",
       "      <th>201</th>\n",
       "      <td>202</td>\n",
       "      <td>5142140436</td>\n",
       "      <td>2010-01-03</td>\n",
       "      <td>NaN</td>\n",
       "      <td>MONTGOMERY COLLEGE-PHONE</td>\n",
       "      <td>MD</td>\n",
       "      <td>20850.0</td>\n",
       "      <td>P</td>\n",
       "      <td>266.00</td>\n",
       "      <td>0</td>\n",
       "    </tr>\n",
       "    <tr>\n",
       "      <th>257</th>\n",
       "      <td>258</td>\n",
       "      <td>5142257292</td>\n",
       "      <td>2010-01-04</td>\n",
       "      <td>NaN</td>\n",
       "      <td>ARGENT CHEMICAL LABS</td>\n",
       "      <td>WA</td>\n",
       "      <td>98052.0</td>\n",
       "      <td>P</td>\n",
       "      <td>240.00</td>\n",
       "      <td>0</td>\n",
       "    </tr>\n",
       "  </tbody>\n",
       "</table>\n",
       "</div>"
      ],
      "text/plain": [
       "     record        card       date merch#                  merchdes  \\\n",
       "115     116  5142182128 2010-01-03    NaN             GRAINGER #973   \n",
       "135     136  5142126842 2010-01-03    NaN    AUTOMATED OFFICE PRODU   \n",
       "168     169  5142132574 2010-01-03    NaN       ROLL CALL NEWSPAPER   \n",
       "201     202  5142140436 2010-01-03    NaN  MONTGOMERY COLLEGE-PHONE   \n",
       "257     258  5142257292 2010-01-04    NaN      ARGENT CHEMICAL LABS   \n",
       "\n",
       "    merchstate  merchzip transtype   amount  fraud  \n",
       "115         IL   60089.0         P   327.34      0  \n",
       "135         MD   20706.0         P  2110.00      0  \n",
       "168         DC   20001.0         P   104.69      0  \n",
       "201         MD   20850.0         P   266.00      0  \n",
       "257         WA   98052.0         P   240.00      0  "
      ]
     },
     "execution_count": 17,
     "metadata": {},
     "output_type": "execute_result"
    }
   ],
   "source": [
    "merchnumnull.head()"
   ]
  },
  {
   "cell_type": "code",
   "execution_count": 18,
   "metadata": {},
   "outputs": [
    {
     "data": {
      "text/plain": [
       "(3198, 10)"
      ]
     },
     "execution_count": 18,
     "metadata": {},
     "output_type": "execute_result"
    }
   ],
   "source": [
    "merchnumnull.shape"
   ]
  },
  {
   "cell_type": "code",
   "execution_count": 19,
   "metadata": {},
   "outputs": [
    {
     "data": {
      "text/plain": [
       "(93199, 10)"
      ]
     },
     "execution_count": 19,
     "metadata": {},
     "output_type": "execute_result"
    }
   ],
   "source": [
    "merchnumgood.shape"
   ]
  },
  {
   "cell_type": "code",
   "execution_count": 20,
   "metadata": {},
   "outputs": [],
   "source": [
    "# merchnumnull['merchdes'].unique()"
   ]
  },
  {
   "cell_type": "code",
   "execution_count": 21,
   "metadata": {},
   "outputs": [],
   "source": [
    "for nulldes in merchnumnull['merchdes'].unique():\n",
    "    for gooddes in merchnumgood['merchdes'].unique():\n",
    "        score = fuzz.ratio(nulldes,gooddes)\n",
    "        if score ==100:\n",
    "            df.loc[(df['merchdes']==nulldes) &(df['merch#'].isnull()),'merch#'] =\\\n",
    "            list(df.loc[(df['merchdes']==nulldes) &(df['merch#'].notnull()),'merch#'])[0]\n",
    "            break"
   ]
  },
  {
   "cell_type": "code",
   "execution_count": 22,
   "metadata": {},
   "outputs": [
    {
     "data": {
      "text/html": [
       "<div>\n",
       "<style scoped>\n",
       "    .dataframe tbody tr th:only-of-type {\n",
       "        vertical-align: middle;\n",
       "    }\n",
       "\n",
       "    .dataframe tbody tr th {\n",
       "        vertical-align: top;\n",
       "    }\n",
       "\n",
       "    .dataframe thead th {\n",
       "        text-align: right;\n",
       "    }\n",
       "</style>\n",
       "<table border=\"1\" class=\"dataframe\">\n",
       "  <thead>\n",
       "    <tr style=\"text-align: right;\">\n",
       "      <th></th>\n",
       "      <th>record</th>\n",
       "      <th>card</th>\n",
       "      <th>date</th>\n",
       "      <th>merch#</th>\n",
       "      <th>merchdes</th>\n",
       "      <th>merchstate</th>\n",
       "      <th>merchzip</th>\n",
       "      <th>transtype</th>\n",
       "      <th>amount</th>\n",
       "      <th>fraud</th>\n",
       "    </tr>\n",
       "  </thead>\n",
       "  <tbody>\n",
       "    <tr>\n",
       "      <th>12706</th>\n",
       "      <td>12707</td>\n",
       "      <td>5142257777</td>\n",
       "      <td>2010-02-22</td>\n",
       "      <td>08-0002815224</td>\n",
       "      <td>BREDE EXPOSITION SERVICES</td>\n",
       "      <td>CO</td>\n",
       "      <td>80216.0</td>\n",
       "      <td>P</td>\n",
       "      <td>389.5</td>\n",
       "      <td>0</td>\n",
       "    </tr>\n",
       "    <tr>\n",
       "      <th>27063</th>\n",
       "      <td>27064</td>\n",
       "      <td>5142119910</td>\n",
       "      <td>2010-04-13</td>\n",
       "      <td>08-0002815224</td>\n",
       "      <td>BREDE EXPOSITION SERVICES</td>\n",
       "      <td>CO</td>\n",
       "      <td>80216.0</td>\n",
       "      <td>P</td>\n",
       "      <td>76.0</td>\n",
       "      <td>0</td>\n",
       "    </tr>\n",
       "    <tr>\n",
       "      <th>82843</th>\n",
       "      <td>82844</td>\n",
       "      <td>5142150919</td>\n",
       "      <td>2010-10-22</td>\n",
       "      <td>08-0002815224</td>\n",
       "      <td>BREDE EXPOSITION SERVICES</td>\n",
       "      <td>CO</td>\n",
       "      <td>80216.0</td>\n",
       "      <td>P</td>\n",
       "      <td>113.2</td>\n",
       "      <td>0</td>\n",
       "    </tr>\n",
       "    <tr>\n",
       "      <th>84547</th>\n",
       "      <td>84548</td>\n",
       "      <td>5142150919</td>\n",
       "      <td>2010-11-02</td>\n",
       "      <td>08-0002815224</td>\n",
       "      <td>BREDE EXPOSITION SERVICES</td>\n",
       "      <td>CO</td>\n",
       "      <td>80216.0</td>\n",
       "      <td>P</td>\n",
       "      <td>7.7</td>\n",
       "      <td>0</td>\n",
       "    </tr>\n",
       "  </tbody>\n",
       "</table>\n",
       "</div>"
      ],
      "text/plain": [
       "       record        card       date         merch#  \\\n",
       "12706   12707  5142257777 2010-02-22  08-0002815224   \n",
       "27063   27064  5142119910 2010-04-13  08-0002815224   \n",
       "82843   82844  5142150919 2010-10-22  08-0002815224   \n",
       "84547   84548  5142150919 2010-11-02  08-0002815224   \n",
       "\n",
       "                        merchdes merchstate  merchzip transtype  amount  fraud  \n",
       "12706  BREDE EXPOSITION SERVICES         CO   80216.0         P   389.5      0  \n",
       "27063  BREDE EXPOSITION SERVICES         CO   80216.0         P    76.0      0  \n",
       "82843  BREDE EXPOSITION SERVICES         CO   80216.0         P   113.2      0  \n",
       "84547  BREDE EXPOSITION SERVICES         CO   80216.0         P     7.7      0  "
      ]
     },
     "execution_count": 22,
     "metadata": {},
     "output_type": "execute_result"
    }
   ],
   "source": [
    "df[df['merchdes']=='BREDE EXPOSITION SERVICES']"
   ]
  },
  {
   "cell_type": "code",
   "execution_count": 23,
   "metadata": {},
   "outputs": [
    {
     "data": {
      "text/plain": [
       "record        96397\n",
       "card          96397\n",
       "date          96397\n",
       "merch#        94359\n",
       "merchdes      96397\n",
       "merchstate    95377\n",
       "merchzip      92097\n",
       "transtype     96397\n",
       "amount        96397\n",
       "fraud         96397\n",
       "dtype: int64"
      ]
     },
     "execution_count": 23,
     "metadata": {},
     "output_type": "execute_result"
    }
   ],
   "source": [
    "df.count()"
   ]
  },
  {
   "cell_type": "code",
   "execution_count": 24,
   "metadata": {},
   "outputs": [
    {
     "data": {
      "text/html": [
       "<div>\n",
       "<style scoped>\n",
       "    .dataframe tbody tr th:only-of-type {\n",
       "        vertical-align: middle;\n",
       "    }\n",
       "\n",
       "    .dataframe tbody tr th {\n",
       "        vertical-align: top;\n",
       "    }\n",
       "\n",
       "    .dataframe thead th {\n",
       "        text-align: right;\n",
       "    }\n",
       "</style>\n",
       "<table border=\"1\" class=\"dataframe\">\n",
       "  <thead>\n",
       "    <tr style=\"text-align: right;\">\n",
       "      <th></th>\n",
       "      <th>merchdes</th>\n",
       "      <th>level_1</th>\n",
       "      <th>merch#</th>\n",
       "    </tr>\n",
       "  </thead>\n",
       "  <tbody>\n",
       "    <tr>\n",
       "      <th>0</th>\n",
       "      <td>21ST CENTURY EXPO. GROUP</td>\n",
       "      <td>52170</td>\n",
       "      <td>52171</td>\n",
       "    </tr>\n",
       "    <tr>\n",
       "      <th>1</th>\n",
       "      <td>21ST CENTURY EXPO. GROUP</td>\n",
       "      <td>73141</td>\n",
       "      <td>52171</td>\n",
       "    </tr>\n",
       "    <tr>\n",
       "      <th>2</th>\n",
       "      <td>800.COM</td>\n",
       "      <td>23281</td>\n",
       "      <td>23282</td>\n",
       "    </tr>\n",
       "    <tr>\n",
       "      <th>3</th>\n",
       "      <td>A &amp; M FIRE &amp; SAFETY INC</td>\n",
       "      <td>14815</td>\n",
       "      <td>14816</td>\n",
       "    </tr>\n",
       "    <tr>\n",
       "      <th>4</th>\n",
       "      <td>A ARVIN TONER STORE</td>\n",
       "      <td>14780</td>\n",
       "      <td>14781</td>\n",
       "    </tr>\n",
       "  </tbody>\n",
       "</table>\n",
       "</div>"
      ],
      "text/plain": [
       "                   merchdes  level_1  merch#\n",
       "0  21ST CENTURY EXPO. GROUP    52170   52171\n",
       "1  21ST CENTURY EXPO. GROUP    73141   52171\n",
       "2                   800.COM    23281   23282\n",
       "3   A & M FIRE & SAFETY INC    14815   14816\n",
       "4       A ARVIN TONER STORE    14780   14781"
      ]
     },
     "execution_count": 24,
     "metadata": {},
     "output_type": "execute_result"
    }
   ],
   "source": [
    "# filling merchnum with record(same merchdes with same record num)\n",
    "merchnumdf=df[df['merch#'].isnull()].groupby('merchdes').apply(lambda x: x['merch#'].fillna(list(x['record'])[0])).reset_index()\n",
    "merchnumdf.head()"
   ]
  },
  {
   "cell_type": "code",
   "execution_count": 25,
   "metadata": {},
   "outputs": [
    {
     "data": {
      "text/plain": [
       "merchdes    2038\n",
       "level_1     2038\n",
       "merch#      2038\n",
       "dtype: int64"
      ]
     },
     "execution_count": 25,
     "metadata": {},
     "output_type": "execute_result"
    }
   ],
   "source": [
    "merchnumdf.count()"
   ]
  },
  {
   "cell_type": "code",
   "execution_count": 26,
   "metadata": {},
   "outputs": [
    {
     "data": {
      "text/html": [
       "<div>\n",
       "<style scoped>\n",
       "    .dataframe tbody tr th:only-of-type {\n",
       "        vertical-align: middle;\n",
       "    }\n",
       "\n",
       "    .dataframe tbody tr th {\n",
       "        vertical-align: top;\n",
       "    }\n",
       "\n",
       "    .dataframe thead th {\n",
       "        text-align: right;\n",
       "    }\n",
       "</style>\n",
       "<table border=\"1\" class=\"dataframe\">\n",
       "  <thead>\n",
       "    <tr style=\"text-align: right;\">\n",
       "      <th></th>\n",
       "      <th>record</th>\n",
       "      <th>card</th>\n",
       "      <th>date</th>\n",
       "      <th>merch#</th>\n",
       "      <th>merchdes</th>\n",
       "      <th>merchstate</th>\n",
       "      <th>merchzip</th>\n",
       "      <th>transtype</th>\n",
       "      <th>amount</th>\n",
       "      <th>fraud</th>\n",
       "    </tr>\n",
       "  </thead>\n",
       "  <tbody>\n",
       "    <tr>\n",
       "      <th>0</th>\n",
       "      <td>1</td>\n",
       "      <td>5142190439</td>\n",
       "      <td>2010-01-01</td>\n",
       "      <td>5509006296254</td>\n",
       "      <td>FEDEX SHP 12/23/09 AB#</td>\n",
       "      <td>TN</td>\n",
       "      <td>38118.0</td>\n",
       "      <td>P</td>\n",
       "      <td>3.62</td>\n",
       "      <td>0</td>\n",
       "    </tr>\n",
       "    <tr>\n",
       "      <th>1</th>\n",
       "      <td>2</td>\n",
       "      <td>5142183973</td>\n",
       "      <td>2010-01-01</td>\n",
       "      <td>61003026333</td>\n",
       "      <td>SERVICE MERCHANDISE #81</td>\n",
       "      <td>MA</td>\n",
       "      <td>1803.0</td>\n",
       "      <td>P</td>\n",
       "      <td>31.42</td>\n",
       "      <td>0</td>\n",
       "    </tr>\n",
       "    <tr>\n",
       "      <th>2</th>\n",
       "      <td>3</td>\n",
       "      <td>5142131721</td>\n",
       "      <td>2010-01-01</td>\n",
       "      <td>4503082993600</td>\n",
       "      <td>OFFICE DEPOT #191</td>\n",
       "      <td>MD</td>\n",
       "      <td>20706.0</td>\n",
       "      <td>P</td>\n",
       "      <td>178.49</td>\n",
       "      <td>0</td>\n",
       "    </tr>\n",
       "    <tr>\n",
       "      <th>3</th>\n",
       "      <td>4</td>\n",
       "      <td>5142148452</td>\n",
       "      <td>2010-01-01</td>\n",
       "      <td>5509006296254</td>\n",
       "      <td>FEDEX SHP 12/28/09 AB#</td>\n",
       "      <td>TN</td>\n",
       "      <td>38118.0</td>\n",
       "      <td>P</td>\n",
       "      <td>3.62</td>\n",
       "      <td>0</td>\n",
       "    </tr>\n",
       "    <tr>\n",
       "      <th>4</th>\n",
       "      <td>5</td>\n",
       "      <td>5142190439</td>\n",
       "      <td>2010-01-01</td>\n",
       "      <td>5509006296254</td>\n",
       "      <td>FEDEX SHP 12/23/09 AB#</td>\n",
       "      <td>TN</td>\n",
       "      <td>38118.0</td>\n",
       "      <td>P</td>\n",
       "      <td>3.62</td>\n",
       "      <td>0</td>\n",
       "    </tr>\n",
       "    <tr>\n",
       "      <th>...</th>\n",
       "      <td>...</td>\n",
       "      <td>...</td>\n",
       "      <td>...</td>\n",
       "      <td>...</td>\n",
       "      <td>...</td>\n",
       "      <td>...</td>\n",
       "      <td>...</td>\n",
       "      <td>...</td>\n",
       "      <td>...</td>\n",
       "      <td>...</td>\n",
       "    </tr>\n",
       "    <tr>\n",
       "      <th>96748</th>\n",
       "      <td>96749</td>\n",
       "      <td>5142276053</td>\n",
       "      <td>2010-12-31</td>\n",
       "      <td>3500000006160</td>\n",
       "      <td>BEST BUY      00001610</td>\n",
       "      <td>KY</td>\n",
       "      <td>41042.0</td>\n",
       "      <td>P</td>\n",
       "      <td>84.79</td>\n",
       "      <td>0</td>\n",
       "    </tr>\n",
       "    <tr>\n",
       "      <th>96749</th>\n",
       "      <td>96750</td>\n",
       "      <td>5142225701</td>\n",
       "      <td>2010-12-31</td>\n",
       "      <td>8090710030950</td>\n",
       "      <td>MARKUS OFFICE SUPPLIES</td>\n",
       "      <td>OH</td>\n",
       "      <td>45248.0</td>\n",
       "      <td>P</td>\n",
       "      <td>118.75</td>\n",
       "      <td>0</td>\n",
       "    </tr>\n",
       "    <tr>\n",
       "      <th>96750</th>\n",
       "      <td>96751</td>\n",
       "      <td>5142226486</td>\n",
       "      <td>2010-12-31</td>\n",
       "      <td>4503057341100</td>\n",
       "      <td>TECH PAC, INC</td>\n",
       "      <td>OH</td>\n",
       "      <td>45150.0</td>\n",
       "      <td>P</td>\n",
       "      <td>363.56</td>\n",
       "      <td>0</td>\n",
       "    </tr>\n",
       "    <tr>\n",
       "      <th>96751</th>\n",
       "      <td>96752</td>\n",
       "      <td>5142244619</td>\n",
       "      <td>2010-12-31</td>\n",
       "      <td>8834000695412</td>\n",
       "      <td>BUY.COM</td>\n",
       "      <td>CA</td>\n",
       "      <td>92656.0</td>\n",
       "      <td>P</td>\n",
       "      <td>2202.03</td>\n",
       "      <td>0</td>\n",
       "    </tr>\n",
       "    <tr>\n",
       "      <th>96752</th>\n",
       "      <td>96753</td>\n",
       "      <td>5142243247</td>\n",
       "      <td>2010-12-31</td>\n",
       "      <td>9108347680006</td>\n",
       "      <td>STAPLES NATIONAL #471</td>\n",
       "      <td>NJ</td>\n",
       "      <td>7606.0</td>\n",
       "      <td>P</td>\n",
       "      <td>554.64</td>\n",
       "      <td>0</td>\n",
       "    </tr>\n",
       "  </tbody>\n",
       "</table>\n",
       "<p>96397 rows × 10 columns</p>\n",
       "</div>"
      ],
      "text/plain": [
       "       record        card       date         merch#                 merchdes  \\\n",
       "0           1  5142190439 2010-01-01  5509006296254   FEDEX SHP 12/23/09 AB#   \n",
       "1           2  5142183973 2010-01-01    61003026333  SERVICE MERCHANDISE #81   \n",
       "2           3  5142131721 2010-01-01  4503082993600        OFFICE DEPOT #191   \n",
       "3           4  5142148452 2010-01-01  5509006296254   FEDEX SHP 12/28/09 AB#   \n",
       "4           5  5142190439 2010-01-01  5509006296254   FEDEX SHP 12/23/09 AB#   \n",
       "...       ...         ...        ...            ...                      ...   \n",
       "96748   96749  5142276053 2010-12-31  3500000006160   BEST BUY      00001610   \n",
       "96749   96750  5142225701 2010-12-31  8090710030950   MARKUS OFFICE SUPPLIES   \n",
       "96750   96751  5142226486 2010-12-31  4503057341100            TECH PAC, INC   \n",
       "96751   96752  5142244619 2010-12-31  8834000695412                  BUY.COM   \n",
       "96752   96753  5142243247 2010-12-31  9108347680006    STAPLES NATIONAL #471   \n",
       "\n",
       "      merchstate  merchzip transtype   amount  fraud  \n",
       "0             TN   38118.0         P     3.62      0  \n",
       "1             MA    1803.0         P    31.42      0  \n",
       "2             MD   20706.0         P   178.49      0  \n",
       "3             TN   38118.0         P     3.62      0  \n",
       "4             TN   38118.0         P     3.62      0  \n",
       "...          ...       ...       ...      ...    ...  \n",
       "96748         KY   41042.0         P    84.79      0  \n",
       "96749         OH   45248.0         P   118.75      0  \n",
       "96750         OH   45150.0         P   363.56      0  \n",
       "96751         CA   92656.0         P  2202.03      0  \n",
       "96752         NJ    7606.0         P   554.64      0  \n",
       "\n",
       "[96397 rows x 10 columns]"
      ]
     },
     "execution_count": 26,
     "metadata": {},
     "output_type": "execute_result"
    }
   ],
   "source": [
    "df"
   ]
  },
  {
   "cell_type": "code",
   "execution_count": 27,
   "metadata": {},
   "outputs": [],
   "source": [
    "df.loc[merchnumdf['level_1'],'merch#'] = merchnumdf['merch#'].values"
   ]
  },
  {
   "cell_type": "code",
   "execution_count": 28,
   "metadata": {},
   "outputs": [
    {
     "data": {
      "text/plain": [
       "0"
      ]
     },
     "execution_count": 28,
     "metadata": {},
     "output_type": "execute_result"
    }
   ],
   "source": [
    "df['merch#'].isnull().sum()"
   ]
  },
  {
   "cell_type": "markdown",
   "metadata": {},
   "source": [
    "## Merchzip"
   ]
  },
  {
   "cell_type": "code",
   "execution_count": 29,
   "metadata": {},
   "outputs": [
    {
     "data": {
      "text/plain": [
       "0        38118.0\n",
       "1         1803.0\n",
       "2        20706.0\n",
       "3        38118.0\n",
       "4        38118.0\n",
       "          ...   \n",
       "96748    41042.0\n",
       "96749    45248.0\n",
       "96750    45150.0\n",
       "96751    92656.0\n",
       "96752     7606.0\n",
       "Name: merchzip, Length: 96397, dtype: float64"
      ]
     },
     "execution_count": 29,
     "metadata": {},
     "output_type": "execute_result"
    }
   ],
   "source": [
    "df.merchzip"
   ]
  },
  {
   "cell_type": "markdown",
   "metadata": {},
   "source": [
    "### Merchstate"
   ]
  },
  {
   "cell_type": "markdown",
   "metadata": {},
   "source": [
    "### Filling merchstate with merchdes"
   ]
  },
  {
   "cell_type": "code",
   "execution_count": 30,
   "metadata": {},
   "outputs": [],
   "source": [
    "df['merchzip']=df['merchzip'].astype(str).str[:-2]"
   ]
  },
  {
   "cell_type": "code",
   "execution_count": 31,
   "metadata": {},
   "outputs": [],
   "source": [
    "# pip install uszipcode"
   ]
  },
  {
   "cell_type": "code",
   "execution_count": 32,
   "metadata": {},
   "outputs": [],
   "source": [
    "from uszipcode import SearchEngine\n",
    "search = SearchEngine(simple_zipcode=True)"
   ]
  },
  {
   "cell_type": "code",
   "execution_count": 33,
   "metadata": {},
   "outputs": [],
   "source": [
    "for i in df[(df['merchstate'].isnull()==True)&(df['merchzip']!='n')].index:\n",
    "    zipcode=df.loc[i, 'merchzip']\n",
    "    if len(zipcode)==5:\n",
    "        info = search.by_zipcode(zipcode)\n",
    "        if info.state is not None:\n",
    "            df.loc[i, 'merchstate']=info.state"
   ]
  },
  {
   "cell_type": "code",
   "execution_count": 34,
   "metadata": {},
   "outputs": [
    {
     "data": {
      "text/plain": [
       "record        96397\n",
       "card          96397\n",
       "date          96397\n",
       "merch#        96397\n",
       "merchdes      96397\n",
       "merchstate    95391\n",
       "merchzip      96397\n",
       "transtype     96397\n",
       "amount        96397\n",
       "fraud         96397\n",
       "dtype: int64"
      ]
     },
     "execution_count": 34,
     "metadata": {},
     "output_type": "execute_result"
    }
   ],
   "source": [
    "df.count()"
   ]
  },
  {
   "cell_type": "code",
   "execution_count": 35,
   "metadata": {},
   "outputs": [],
   "source": [
    "df.loc[df['merchzip']=='n','merchzip']=np.nan"
   ]
  },
  {
   "cell_type": "code",
   "execution_count": 36,
   "metadata": {},
   "outputs": [],
   "source": [
    "statenull=df[df['merchstate'].isnull()]\n",
    "stategood=df[df['merchstate'].notnull()]"
   ]
  },
  {
   "cell_type": "code",
   "execution_count": 37,
   "metadata": {},
   "outputs": [],
   "source": [
    "for null in statenull['merchdes'].unique():\n",
    "    for good in stategood['merchdes'].unique():\n",
    "        if null == good:\n",
    "            df.loc[(df['merchdes']==null) &(df['merchstate'].isnull()),'merchstate'] =\\\n",
    "            list(df.loc[(df['merchdes']==null) &(df['merchstate'].notnull()),'merchstate'])[0]\n",
    "            break"
   ]
  },
  {
   "cell_type": "code",
   "execution_count": 38,
   "metadata": {},
   "outputs": [
    {
     "data": {
      "text/plain": [
       "record        96397\n",
       "card          96397\n",
       "date          96397\n",
       "merch#        96397\n",
       "merchdes      96397\n",
       "merchstate    96048\n",
       "merchzip      92097\n",
       "transtype     96397\n",
       "amount        96397\n",
       "fraud         96397\n",
       "dtype: int64"
      ]
     },
     "execution_count": 38,
     "metadata": {},
     "output_type": "execute_result"
    }
   ],
   "source": [
    "df.count()"
   ]
  },
  {
   "cell_type": "markdown",
   "metadata": {},
   "source": [
    "### Filling merchstate with merchnum"
   ]
  },
  {
   "cell_type": "code",
   "execution_count": 39,
   "metadata": {},
   "outputs": [],
   "source": [
    "statenull2=df[df['merchstate'].isnull()]\n",
    "stategood2=df[df['merchstate'].notnull()]"
   ]
  },
  {
   "cell_type": "code",
   "execution_count": 40,
   "metadata": {},
   "outputs": [],
   "source": [
    "for null in statenull2['merch#'].unique():\n",
    "    for good in stategood2['merch#'].unique():\n",
    "        if null == good:\n",
    "            df.loc[(df['merch#']==null) &(df['merchstate'].isnull()),'merchstate'] =\\\n",
    "            list(df.loc[(df['merch#']==null) &(df['merchstate'].notnull()),'merchstate'])[0]\n",
    "            break"
   ]
  },
  {
   "cell_type": "code",
   "execution_count": 41,
   "metadata": {},
   "outputs": [
    {
     "data": {
      "text/plain": [
       "record        96397\n",
       "card          96397\n",
       "date          96397\n",
       "merch#        96397\n",
       "merchdes      96397\n",
       "merchstate    96079\n",
       "merchzip      92097\n",
       "transtype     96397\n",
       "amount        96397\n",
       "fraud         96397\n",
       "dtype: int64"
      ]
     },
     "execution_count": 41,
     "metadata": {},
     "output_type": "execute_result"
    }
   ],
   "source": [
    "df.count()"
   ]
  },
  {
   "cell_type": "markdown",
   "metadata": {},
   "source": [
    "### Filling merchstate with merchzip"
   ]
  },
  {
   "cell_type": "code",
   "execution_count": 42,
   "metadata": {},
   "outputs": [],
   "source": [
    "statenull3=df[df['merchstate'].isnull()]\n",
    "stategood3=df[df['merchstate'].notnull()]\n",
    "\n",
    "for null in statenull3['merchzip'].unique():\n",
    "    for good in stategood3['merchzip'].unique():\n",
    "        if null == good:\n",
    "            df.loc[(df['merchzip']==null) &(df['merchstate'].isnull()),'merchstate'] =\\\n",
    "            list(df.loc[(df['merchzip']==null) &(df['merchstate'].notnull()),'merchstate'])[0]\n",
    "            break"
   ]
  },
  {
   "cell_type": "code",
   "execution_count": 43,
   "metadata": {},
   "outputs": [
    {
     "data": {
      "text/plain": [
       "record        96397\n",
       "card          96397\n",
       "date          96397\n",
       "merch#        96397\n",
       "merchdes      96397\n",
       "merchstate    96096\n",
       "merchzip      92097\n",
       "transtype     96397\n",
       "amount        96397\n",
       "fraud         96397\n",
       "dtype: int64"
      ]
     },
     "execution_count": 43,
     "metadata": {},
     "output_type": "execute_result"
    }
   ],
   "source": [
    "df.count()"
   ]
  },
  {
   "cell_type": "markdown",
   "metadata": {},
   "source": [
    "### Filling merchstate with record#"
   ]
  },
  {
   "cell_type": "code",
   "execution_count": 44,
   "metadata": {},
   "outputs": [
    {
     "data": {
      "text/html": [
       "<div>\n",
       "<style scoped>\n",
       "    .dataframe tbody tr th:only-of-type {\n",
       "        vertical-align: middle;\n",
       "    }\n",
       "\n",
       "    .dataframe tbody tr th {\n",
       "        vertical-align: top;\n",
       "    }\n",
       "\n",
       "    .dataframe thead th {\n",
       "        text-align: right;\n",
       "    }\n",
       "</style>\n",
       "<table border=\"1\" class=\"dataframe\">\n",
       "  <thead>\n",
       "    <tr style=\"text-align: right;\">\n",
       "      <th></th>\n",
       "      <th>merchdes</th>\n",
       "      <th>level_1</th>\n",
       "      <th>merchstate</th>\n",
       "    </tr>\n",
       "  </thead>\n",
       "  <tbody>\n",
       "    <tr>\n",
       "      <th>0</th>\n",
       "      <td>AAFES BUCHANAN FURN/TOYS</td>\n",
       "      <td>24185</td>\n",
       "      <td>24186</td>\n",
       "    </tr>\n",
       "    <tr>\n",
       "      <th>1</th>\n",
       "      <td>AAFES BUCHANAN FURN/TOYS</td>\n",
       "      <td>24226</td>\n",
       "      <td>24186</td>\n",
       "    </tr>\n",
       "    <tr>\n",
       "      <th>2</th>\n",
       "      <td>AAFES BUCHANAN FURN/TOYS</td>\n",
       "      <td>24283</td>\n",
       "      <td>24186</td>\n",
       "    </tr>\n",
       "    <tr>\n",
       "      <th>3</th>\n",
       "      <td>AAFES BUCHANAN FURN/TOYS</td>\n",
       "      <td>25487</td>\n",
       "      <td>24186</td>\n",
       "    </tr>\n",
       "    <tr>\n",
       "      <th>4</th>\n",
       "      <td>AAFES BUCHANAN MAIN STR</td>\n",
       "      <td>24297</td>\n",
       "      <td>24298</td>\n",
       "    </tr>\n",
       "  </tbody>\n",
       "</table>\n",
       "</div>"
      ],
      "text/plain": [
       "                   merchdes  level_1  merchstate\n",
       "0  AAFES BUCHANAN FURN/TOYS    24185       24186\n",
       "1  AAFES BUCHANAN FURN/TOYS    24226       24186\n",
       "2  AAFES BUCHANAN FURN/TOYS    24283       24186\n",
       "3  AAFES BUCHANAN FURN/TOYS    25487       24186\n",
       "4   AAFES BUCHANAN MAIN STR    24297       24298"
      ]
     },
     "execution_count": 44,
     "metadata": {},
     "output_type": "execute_result"
    }
   ],
   "source": [
    "# filling merchstate with record(same merchdes with same record num)\n",
    "merchstatedf=df[df['merchstate'].isnull()].groupby('merchdes').apply(lambda x: x['merchstate'].fillna(list(x['record'])[0])).reset_index()\n",
    "merchstatedf.head()"
   ]
  },
  {
   "cell_type": "code",
   "execution_count": 45,
   "metadata": {},
   "outputs": [],
   "source": [
    "df.loc[merchstatedf['level_1'],'merchstate'] = merchstatedf['merchstate'].values"
   ]
  },
  {
   "cell_type": "code",
   "execution_count": 46,
   "metadata": {},
   "outputs": [
    {
     "data": {
      "text/plain": [
       "record        96397\n",
       "card          96397\n",
       "date          96397\n",
       "merch#        96397\n",
       "merchdes      96397\n",
       "merchstate    96397\n",
       "merchzip      92097\n",
       "transtype     96397\n",
       "amount        96397\n",
       "fraud         96397\n",
       "dtype: int64"
      ]
     },
     "execution_count": 46,
     "metadata": {},
     "output_type": "execute_result"
    }
   ],
   "source": [
    "df.count()"
   ]
  },
  {
   "cell_type": "markdown",
   "metadata": {},
   "source": [
    "## Filling merchzip with merchdes"
   ]
  },
  {
   "cell_type": "code",
   "execution_count": 358,
   "metadata": {},
   "outputs": [
    {
     "data": {
      "text/html": [
       "<div>\n",
       "<style scoped>\n",
       "    .dataframe tbody tr th:only-of-type {\n",
       "        vertical-align: middle;\n",
       "    }\n",
       "\n",
       "    .dataframe tbody tr th {\n",
       "        vertical-align: top;\n",
       "    }\n",
       "\n",
       "    .dataframe thead th {\n",
       "        text-align: right;\n",
       "    }\n",
       "</style>\n",
       "<table border=\"1\" class=\"dataframe\">\n",
       "  <thead>\n",
       "    <tr style=\"text-align: right;\">\n",
       "      <th></th>\n",
       "      <th>record</th>\n",
       "      <th>card</th>\n",
       "      <th>date</th>\n",
       "      <th>merch#</th>\n",
       "      <th>merchdes</th>\n",
       "      <th>merchstate</th>\n",
       "      <th>merchzip</th>\n",
       "      <th>transtype</th>\n",
       "      <th>amount</th>\n",
       "      <th>fraud</th>\n",
       "    </tr>\n",
       "  </thead>\n",
       "  <tbody>\n",
       "    <tr>\n",
       "      <th>51</th>\n",
       "      <td>52</td>\n",
       "      <td>5142204384</td>\n",
       "      <td>2010-01-02</td>\n",
       "      <td>5000006000095</td>\n",
       "      <td>IBM INTERNET  01000025</td>\n",
       "      <td>NY</td>\n",
       "      <td>NaN</td>\n",
       "      <td>P</td>\n",
       "      <td>20.15</td>\n",
       "      <td>0</td>\n",
       "    </tr>\n",
       "    <tr>\n",
       "      <th>54</th>\n",
       "      <td>55</td>\n",
       "      <td>5142146340</td>\n",
       "      <td>2010-01-02</td>\n",
       "      <td>5000006000095</td>\n",
       "      <td>IBM INTERNET  01000025</td>\n",
       "      <td>NY</td>\n",
       "      <td>NaN</td>\n",
       "      <td>P</td>\n",
       "      <td>23.90</td>\n",
       "      <td>0</td>\n",
       "    </tr>\n",
       "    <tr>\n",
       "      <th>55</th>\n",
       "      <td>56</td>\n",
       "      <td>5142260984</td>\n",
       "      <td>2010-01-02</td>\n",
       "      <td>5000006000095</td>\n",
       "      <td>IBM INTERNET  01000025</td>\n",
       "      <td>NY</td>\n",
       "      <td>NaN</td>\n",
       "      <td>P</td>\n",
       "      <td>19.95</td>\n",
       "      <td>0</td>\n",
       "    </tr>\n",
       "    <tr>\n",
       "      <th>58</th>\n",
       "      <td>59</td>\n",
       "      <td>5142204384</td>\n",
       "      <td>2010-01-02</td>\n",
       "      <td>5000006000095</td>\n",
       "      <td>IBM INTERNET  01000025</td>\n",
       "      <td>NY</td>\n",
       "      <td>NaN</td>\n",
       "      <td>P</td>\n",
       "      <td>20.15</td>\n",
       "      <td>0</td>\n",
       "    </tr>\n",
       "    <tr>\n",
       "      <th>59</th>\n",
       "      <td>60</td>\n",
       "      <td>5142204384</td>\n",
       "      <td>2010-01-02</td>\n",
       "      <td>5000006000095</td>\n",
       "      <td>IBM INTERNET  01000025</td>\n",
       "      <td>NY</td>\n",
       "      <td>NaN</td>\n",
       "      <td>P</td>\n",
       "      <td>20.15</td>\n",
       "      <td>0</td>\n",
       "    </tr>\n",
       "    <tr>\n",
       "      <th>...</th>\n",
       "      <td>...</td>\n",
       "      <td>...</td>\n",
       "      <td>...</td>\n",
       "      <td>...</td>\n",
       "      <td>...</td>\n",
       "      <td>...</td>\n",
       "      <td>...</td>\n",
       "      <td>...</td>\n",
       "      <td>...</td>\n",
       "      <td>...</td>\n",
       "    </tr>\n",
       "    <tr>\n",
       "      <th>96651</th>\n",
       "      <td>96652</td>\n",
       "      <td>5142151962</td>\n",
       "      <td>2010-12-30</td>\n",
       "      <td>263</td>\n",
       "      <td>RETAIL DEBIT ADJUSTMENT</td>\n",
       "      <td>GA</td>\n",
       "      <td>NaN</td>\n",
       "      <td>P</td>\n",
       "      <td>125.00</td>\n",
       "      <td>0</td>\n",
       "    </tr>\n",
       "    <tr>\n",
       "      <th>96668</th>\n",
       "      <td>96669</td>\n",
       "      <td>5142195081</td>\n",
       "      <td>2010-12-30</td>\n",
       "      <td>465905123335</td>\n",
       "      <td>DURHAM SAFE &amp; LOCK CO</td>\n",
       "      <td>NC</td>\n",
       "      <td>NaN</td>\n",
       "      <td>P</td>\n",
       "      <td>103.00</td>\n",
       "      <td>0</td>\n",
       "    </tr>\n",
       "    <tr>\n",
       "      <th>96720</th>\n",
       "      <td>96721</td>\n",
       "      <td>5142178272</td>\n",
       "      <td>2010-12-31</td>\n",
       "      <td>23095</td>\n",
       "      <td>TRULOGIC SYSTEMS</td>\n",
       "      <td>ON</td>\n",
       "      <td>NaN</td>\n",
       "      <td>P</td>\n",
       "      <td>343.42</td>\n",
       "      <td>0</td>\n",
       "    </tr>\n",
       "    <tr>\n",
       "      <th>96730</th>\n",
       "      <td>96731</td>\n",
       "      <td>5142122644</td>\n",
       "      <td>2010-12-31</td>\n",
       "      <td>263</td>\n",
       "      <td>RETAIL DEBIT ADJUSTMENT</td>\n",
       "      <td>GA</td>\n",
       "      <td>NaN</td>\n",
       "      <td>P</td>\n",
       "      <td>340.79</td>\n",
       "      <td>0</td>\n",
       "    </tr>\n",
       "    <tr>\n",
       "      <th>96734</th>\n",
       "      <td>96735</td>\n",
       "      <td>5142166343</td>\n",
       "      <td>2010-12-31</td>\n",
       "      <td>990903450339</td>\n",
       "      <td>OKEECHOBEE NEWS</td>\n",
       "      <td>FL</td>\n",
       "      <td>NaN</td>\n",
       "      <td>P</td>\n",
       "      <td>33.17</td>\n",
       "      <td>0</td>\n",
       "    </tr>\n",
       "  </tbody>\n",
       "</table>\n",
       "<p>4300 rows × 10 columns</p>\n",
       "</div>"
      ],
      "text/plain": [
       "       record        card       date         merch#                 merchdes  \\\n",
       "51         52  5142204384 2010-01-02  5000006000095   IBM INTERNET  01000025   \n",
       "54         55  5142146340 2010-01-02  5000006000095   IBM INTERNET  01000025   \n",
       "55         56  5142260984 2010-01-02  5000006000095   IBM INTERNET  01000025   \n",
       "58         59  5142204384 2010-01-02  5000006000095   IBM INTERNET  01000025   \n",
       "59         60  5142204384 2010-01-02  5000006000095   IBM INTERNET  01000025   \n",
       "...       ...         ...        ...            ...                      ...   \n",
       "96651   96652  5142151962 2010-12-30            263  RETAIL DEBIT ADJUSTMENT   \n",
       "96668   96669  5142195081 2010-12-30   465905123335    DURHAM SAFE & LOCK CO   \n",
       "96720   96721  5142178272 2010-12-31          23095         TRULOGIC SYSTEMS   \n",
       "96730   96731  5142122644 2010-12-31            263  RETAIL DEBIT ADJUSTMENT   \n",
       "96734   96735  5142166343 2010-12-31   990903450339          OKEECHOBEE NEWS   \n",
       "\n",
       "      merchstate merchzip transtype  amount  fraud  \n",
       "51            NY      NaN         P   20.15      0  \n",
       "54            NY      NaN         P   23.90      0  \n",
       "55            NY      NaN         P   19.95      0  \n",
       "58            NY      NaN         P   20.15      0  \n",
       "59            NY      NaN         P   20.15      0  \n",
       "...          ...      ...       ...     ...    ...  \n",
       "96651         GA      NaN         P  125.00      0  \n",
       "96668         NC      NaN         P  103.00      0  \n",
       "96720         ON      NaN         P  343.42      0  \n",
       "96730         GA      NaN         P  340.79      0  \n",
       "96734         FL      NaN         P   33.17      0  \n",
       "\n",
       "[4300 rows x 10 columns]"
      ]
     },
     "execution_count": 358,
     "metadata": {},
     "output_type": "execute_result"
    }
   ],
   "source": [
    "zipnull=df[df['merchzip'].isnull()]\n",
    "zipgood=df[df['merchzip'].notnull()]\n",
    "\n",
    "zipnull"
   ]
  },
  {
   "cell_type": "code",
   "execution_count": 359,
   "metadata": {},
   "outputs": [],
   "source": [
    "for null in zipnull['merchdes'].unique():\n",
    "    for good in zipgood['merchdes'].unique():\n",
    "        if null == good:\n",
    "            df.loc[(df['merchdes']==null) &(df['merchzip'].isnull()),'merchzip'] =\\\n",
    "            list(df.loc[(df['merchdes']==null) &(df['merchzip'].notnull()),'merchzip'])[0]\n",
    "            break"
   ]
  },
  {
   "cell_type": "code",
   "execution_count": 360,
   "metadata": {},
   "outputs": [
    {
     "data": {
      "text/plain": [
       "record        96397\n",
       "card          96397\n",
       "date          96397\n",
       "merch#        96397\n",
       "merchdes      96397\n",
       "merchstate    96397\n",
       "merchzip      94354\n",
       "transtype     96397\n",
       "amount        96397\n",
       "fraud         96397\n",
       "dtype: int64"
      ]
     },
     "execution_count": 360,
     "metadata": {},
     "output_type": "execute_result"
    }
   ],
   "source": [
    "df.count()"
   ]
  },
  {
   "cell_type": "markdown",
   "metadata": {},
   "source": [
    "### Filling merchzip with recordnum"
   ]
  },
  {
   "cell_type": "code",
   "execution_count": 361,
   "metadata": {},
   "outputs": [],
   "source": [
    "merchzipdf=df[df['merchzip'].isnull()].groupby('merchdes').apply(lambda x: x['merchzip'].fillna(list(x['record'])[0])).reset_index()"
   ]
  },
  {
   "cell_type": "code",
   "execution_count": 362,
   "metadata": {},
   "outputs": [
    {
     "data": {
      "text/html": [
       "<div>\n",
       "<style scoped>\n",
       "    .dataframe tbody tr th:only-of-type {\n",
       "        vertical-align: middle;\n",
       "    }\n",
       "\n",
       "    .dataframe tbody tr th {\n",
       "        vertical-align: top;\n",
       "    }\n",
       "\n",
       "    .dataframe thead th {\n",
       "        text-align: right;\n",
       "    }\n",
       "</style>\n",
       "<table border=\"1\" class=\"dataframe\">\n",
       "  <thead>\n",
       "    <tr style=\"text-align: right;\">\n",
       "      <th></th>\n",
       "      <th>merchdes</th>\n",
       "      <th>level_1</th>\n",
       "      <th>merchzip</th>\n",
       "    </tr>\n",
       "  </thead>\n",
       "  <tbody>\n",
       "    <tr>\n",
       "      <th>0</th>\n",
       "      <td>8886538103 PREFBUYERRE</td>\n",
       "      <td>36462</td>\n",
       "      <td>36463</td>\n",
       "    </tr>\n",
       "    <tr>\n",
       "      <th>1</th>\n",
       "      <td>ACE TONER SPLY47950019</td>\n",
       "      <td>2014</td>\n",
       "      <td>2015</td>\n",
       "    </tr>\n",
       "    <tr>\n",
       "      <th>2</th>\n",
       "      <td>ACE TONER SPLY47950019</td>\n",
       "      <td>4715</td>\n",
       "      <td>2015</td>\n",
       "    </tr>\n",
       "    <tr>\n",
       "      <th>3</th>\n",
       "      <td>ACE TONER SPLY47950019</td>\n",
       "      <td>13932</td>\n",
       "      <td>2015</td>\n",
       "    </tr>\n",
       "    <tr>\n",
       "      <th>4</th>\n",
       "      <td>ACE TONER SPLY47950019</td>\n",
       "      <td>24011</td>\n",
       "      <td>2015</td>\n",
       "    </tr>\n",
       "    <tr>\n",
       "      <th>...</th>\n",
       "      <td>...</td>\n",
       "      <td>...</td>\n",
       "      <td>...</td>\n",
       "    </tr>\n",
       "    <tr>\n",
       "      <th>2038</th>\n",
       "      <td>ZYMED LABORATORIES</td>\n",
       "      <td>71231</td>\n",
       "      <td>16682</td>\n",
       "    </tr>\n",
       "    <tr>\n",
       "      <th>2039</th>\n",
       "      <td>ZYMED LABORATORIES</td>\n",
       "      <td>76302</td>\n",
       "      <td>16682</td>\n",
       "    </tr>\n",
       "    <tr>\n",
       "      <th>2040</th>\n",
       "      <td>ZYMED LABORATORIES</td>\n",
       "      <td>80845</td>\n",
       "      <td>16682</td>\n",
       "    </tr>\n",
       "    <tr>\n",
       "      <th>2041</th>\n",
       "      <td>ZYMED LABORATORIES</td>\n",
       "      <td>91320</td>\n",
       "      <td>16682</td>\n",
       "    </tr>\n",
       "    <tr>\n",
       "      <th>2042</th>\n",
       "      <td>ZYMED LABORATORIES</td>\n",
       "      <td>94112</td>\n",
       "      <td>16682</td>\n",
       "    </tr>\n",
       "  </tbody>\n",
       "</table>\n",
       "<p>2043 rows × 3 columns</p>\n",
       "</div>"
      ],
      "text/plain": [
       "                    merchdes  level_1  merchzip\n",
       "0     8886538103 PREFBUYERRE    36462     36463\n",
       "1     ACE TONER SPLY47950019     2014      2015\n",
       "2     ACE TONER SPLY47950019     4715      2015\n",
       "3     ACE TONER SPLY47950019    13932      2015\n",
       "4     ACE TONER SPLY47950019    24011      2015\n",
       "...                      ...      ...       ...\n",
       "2038      ZYMED LABORATORIES    71231     16682\n",
       "2039      ZYMED LABORATORIES    76302     16682\n",
       "2040      ZYMED LABORATORIES    80845     16682\n",
       "2041      ZYMED LABORATORIES    91320     16682\n",
       "2042      ZYMED LABORATORIES    94112     16682\n",
       "\n",
       "[2043 rows x 3 columns]"
      ]
     },
     "execution_count": 362,
     "metadata": {},
     "output_type": "execute_result"
    }
   ],
   "source": [
    "merchzipdf"
   ]
  },
  {
   "cell_type": "code",
   "execution_count": 363,
   "metadata": {},
   "outputs": [],
   "source": [
    "df.loc[merchzipdf['level_1'],'merchzip'] = merchzipdf['merchzip'].values"
   ]
  },
  {
   "cell_type": "code",
   "execution_count": 364,
   "metadata": {},
   "outputs": [
    {
     "data": {
      "text/plain": [
       "record        96397\n",
       "card          96397\n",
       "date          96397\n",
       "merch#        96397\n",
       "merchdes      96397\n",
       "merchstate    96397\n",
       "merchzip      96397\n",
       "transtype     96397\n",
       "amount        96397\n",
       "fraud         96397\n",
       "dtype: int64"
      ]
     },
     "execution_count": 364,
     "metadata": {},
     "output_type": "execute_result"
    }
   ],
   "source": [
    "df.count()"
   ]
  },
  {
   "cell_type": "code",
   "execution_count": 365,
   "metadata": {},
   "outputs": [],
   "source": [
    "df.to_csv('cleaned_data.csv',index=False)"
   ]
  },
  {
   "cell_type": "code",
   "execution_count": null,
   "metadata": {},
   "outputs": [],
   "source": []
  },
  {
   "cell_type": "code",
   "execution_count": null,
   "metadata": {},
   "outputs": [],
   "source": []
  },
  {
   "cell_type": "code",
   "execution_count": null,
   "metadata": {},
   "outputs": [],
   "source": []
  },
  {
   "cell_type": "code",
   "execution_count": null,
   "metadata": {},
   "outputs": [],
   "source": []
  },
  {
   "cell_type": "code",
   "execution_count": null,
   "metadata": {},
   "outputs": [],
   "source": []
  },
  {
   "cell_type": "code",
   "execution_count": null,
   "metadata": {},
   "outputs": [],
   "source": []
  }
 ],
 "metadata": {
  "kernelspec": {
   "display_name": "Python 3",
   "language": "python",
   "name": "python3"
  },
  "language_info": {
   "codemirror_mode": {
    "name": "ipython",
    "version": 3
   },
   "file_extension": ".py",
   "mimetype": "text/x-python",
   "name": "python",
   "nbconvert_exporter": "python",
   "pygments_lexer": "ipython3",
   "version": "3.7.6"
  }
 },
 "nbformat": 4,
 "nbformat_minor": 4
}
