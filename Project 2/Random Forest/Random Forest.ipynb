{
 "cells": [
  {
   "cell_type": "code",
   "execution_count": 8,
   "metadata": {
    "ExecuteTime": {
     "end_time": "2020-03-14T22:08:55.573494Z",
     "start_time": "2020-03-14T22:08:46.046362Z"
    }
   },
   "outputs": [],
   "source": [
    "import warnings\n",
    "warnings.filterwarnings('ignore')\n",
    "from sklearn.linear_model import LogisticRegression\n",
    "from sklearn.metrics import roc_auc_score\n",
    "import pandas as pd\n",
    "import scipy.stats as sps\n",
    "import matplotlib.pyplot as plt\n",
    "import math\n",
    "from sklearn.ensemble import RandomForestClassifier\n",
    "from sklearn.metrics import confusion_matrix, f1_score\n",
    "import numpy as np"
   ]
  },
  {
   "cell_type": "code",
   "execution_count": 2,
   "metadata": {
    "ExecuteTime": {
     "end_time": "2020-03-14T22:09:46.469977Z",
     "start_time": "2020-03-14T22:08:55.600364Z"
    }
   },
   "outputs": [],
   "source": [
    "#read datasets \n",
    "tt = pd.read_csv(\"training_testing.csv\")\n",
    "oot = pd.read_csv(\"out_of_time.csv\")"
   ]
  },
  {
   "cell_type": "code",
   "execution_count": 4,
   "metadata": {
    "ExecuteTime": {
     "end_time": "2020-03-14T22:09:52.623658Z",
     "start_time": "2020-03-14T22:09:47.532119Z"
    }
   },
   "outputs": [],
   "source": [
    "# spliting training and testing here \n",
    "\n",
    "from sklearn.model_selection import train_test_split\n",
    "train, test = train_test_split(tt, test_size=0.2,random_state=42,stratify=tt['fraud_label'])"
   ]
  },
  {
   "cell_type": "code",
   "execution_count": 5,
   "metadata": {
    "ExecuteTime": {
     "end_time": "2020-03-14T22:09:54.110754Z",
     "start_time": "2020-03-14T22:09:54.102776Z"
    }
   },
   "outputs": [],
   "source": [
    "select = ['addr-homephone_#days_since', 'addr-homephone_lag14_count', 'addr-homephone_lag30_count', 'addr-homephone_lag7_count', 'addr_#days_since', 'addr_lag14_count', 'addr_lag1_count', 'addr_lag1_lag14_avg', 'addr_lag30_count',\n",
    "                   'addr_lag3_count', 'addr_lag7_count', 'address_#days_since', 'address_lag14_count', 'address_lag1_count', 'address_lag1_lag14_avg', 'address_lag30_count', 'address_lag3_count', 'address_lag7_count', 'homephone_lag7_count', 'name-dob_#days_since']"
   ]
  },
  {
   "cell_type": "code",
   "execution_count": 9,
   "metadata": {
    "ExecuteTime": {
     "end_time": "2020-03-14T22:09:56.313882Z",
     "start_time": "2020-03-14T22:09:55.926832Z"
    }
   },
   "outputs": [],
   "source": [
    "#update train, test, oot dataset \n",
    "X_train = np.array(train[train.columns.intersection(select)])\n",
    "Y_train = np.array(train['fraud_label'])\n",
    "X_test = np.array(test[test.columns.intersection(select)])\n",
    "Y_test = np.array(test['fraud_label'])\n",
    "X_oot = np.array(oot[oot.columns.intersection(select)])\n",
    "Y_oot = np.array(oot['fraud_label'])"
   ]
  },
  {
   "cell_type": "code",
   "execution_count": 10,
   "metadata": {
    "ExecuteTime": {
     "end_time": "2020-03-14T22:22:16.542771Z",
     "start_time": "2020-03-14T22:09:58.138014Z"
    }
   },
   "outputs": [],
   "source": [
    "rf = RandomForestClassifier(n_estimators=200, min_samples_leaf=3)\n",
    "rf.fit(X_train, Y_train)\n",
    "y_pred_tn = rf.predict_proba(X_train)\n",
    "y_pred_ts = rf.predict_proba(X_test)\n",
    "y_pred_oo = rf.predict_proba(X_oot)"
   ]
  },
  {
   "cell_type": "code",
   "execution_count": 12,
   "metadata": {
    "ExecuteTime": {
     "end_time": "2020-03-14T22:32:09.647562Z",
     "start_time": "2020-03-14T22:22:18.538906Z"
    }
   },
   "outputs": [],
   "source": [
    "train1=train.copy()\n",
    "train1['pred_label']=y_pred_tn[:,1]\n",
    "train1.to_csv('train.csv')\n",
    "test1=test.copy()\n",
    "test1['pred_label']=y_pred_ts[:,1]\n",
    "test1.to_csv('test.csv')\n",
    "oot1=oot.copy()\n",
    "oot1['pred_label']=y_pred_oo[:,1]\n",
    "oot1.to_csv('oot.csv')"
   ]
  },
  {
   "cell_type": "code",
   "execution_count": null,
   "metadata": {},
   "outputs": [],
   "source": []
  }
 ],
 "metadata": {
  "kernelspec": {
   "display_name": "Python 3",
   "language": "python",
   "name": "python3"
  },
  "language_info": {
   "codemirror_mode": {
    "name": "ipython",
    "version": 3
   },
   "file_extension": ".py",
   "mimetype": "text/x-python",
   "name": "python",
   "nbconvert_exporter": "python",
   "pygments_lexer": "ipython3",
   "version": "3.7.3"
  },
  "toc": {
   "base_numbering": 1,
   "nav_menu": {},
   "number_sections": true,
   "sideBar": true,
   "skip_h1_title": false,
   "title_cell": "Table of Contents",
   "title_sidebar": "Contents",
   "toc_cell": false,
   "toc_position": {},
   "toc_section_display": true,
   "toc_window_display": false
  },
  "varInspector": {
   "cols": {
    "lenName": 16,
    "lenType": 16,
    "lenVar": 40
   },
   "kernels_config": {
    "python": {
     "delete_cmd_postfix": "",
     "delete_cmd_prefix": "del ",
     "library": "var_list.py",
     "varRefreshCmd": "print(var_dic_list())"
    },
    "r": {
     "delete_cmd_postfix": ") ",
     "delete_cmd_prefix": "rm(",
     "library": "var_list.r",
     "varRefreshCmd": "cat(var_dic_list()) "
    }
   },
   "types_to_exclude": [
    "module",
    "function",
    "builtin_function_or_method",
    "instance",
    "_Feature"
   ],
   "window_display": false
  }
 },
 "nbformat": 4,
 "nbformat_minor": 2
}
