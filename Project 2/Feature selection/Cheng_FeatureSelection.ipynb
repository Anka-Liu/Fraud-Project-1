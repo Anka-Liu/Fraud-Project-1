{
 "cells": [
  {
   "cell_type": "code",
   "execution_count": 1,
   "metadata": {},
   "outputs": [],
   "source": [
    "import warnings\n",
    "warnings.filterwarnings('ignore')\n",
    "from sklearn.linear_model import LogisticRegression\n",
    "from sklearn.metrics import roc_auc_score\n",
    "import pandas as pd\n",
    "import scipy.stats as sps\n",
    "import numpy as np\n",
    "import datetime as dt\n",
    "import seaborn as sns\n",
    "import matplotlib.pyplot as plt\n",
    "import math\n",
    "from mlxtend.feature_selection import SequentialFeatureSelector \n",
    "from sklearn.linear_model import LogisticRegression\n",
    "from mlxtend.plotting import plot_sequential_feature_selection as plot_sfs\n",
    "from datetime import datetime\n",
    "from sklearn.model_selection import train_test_split\n",
    "from sklearn.metrics import accuracy_score"
   ]
  },
  {
   "cell_type": "code",
   "execution_count": 2,
   "metadata": {},
   "outputs": [],
   "source": [
    "##Generate training_testing & oot \n",
    "tt = pd.read_csv(\"training_testing.csv\")\n",
    "oot = pd.read_csv(\"out_of_time.csv\")"
   ]
  },
  {
   "cell_type": "code",
   "execution_count": 3,
   "metadata": {},
   "outputs": [
    {
     "data": {
      "text/plain": [
       "288"
      ]
     },
     "execution_count": 3,
     "metadata": {},
     "output_type": "execute_result"
    }
   ],
   "source": [
    "variables = list(tt.columns)\n",
    "for col in ['Unnamed: 0','record', 'date']:\n",
    "    variables.remove(col)\n",
    "len(variables)"
   ]
  },
  {
   "cell_type": "markdown",
   "metadata": {},
   "source": [
    "## KS & FDR"
   ]
  },
  {
   "cell_type": "code",
   "execution_count": 4,
   "metadata": {},
   "outputs": [],
   "source": [
    "#Build KS & FDR Dataframe \n",
    "KSFDR = pd.DataFrame({'var': range(0,288)})\n",
    "\n",
    "i=0\n",
    "for variable in variables :\n",
    "    KSFDR['var'][i] = variables[i]\n",
    "    i=i+1\n",
    "\n",
    "KSFDR[\"ks\"] = \"\"\n",
    "KSFDR[\"FDR\"] = \"\""
   ]
  },
  {
   "cell_type": "code",
   "execution_count": 5,
   "metadata": {},
   "outputs": [],
   "source": [
    "tt = tt.drop(columns = ['Unnamed: 0','record', 'date']).copy()"
   ]
  },
  {
   "cell_type": "code",
   "execution_count": 6,
   "metadata": {},
   "outputs": [],
   "source": [
    "#Calculate KS\n",
    "\n",
    "goods = tt[tt.fraud_label == 0]\n",
    "bads = tt[tt.fraud_label == 1] \n",
    "\n",
    "i = 0\n",
    "for column in tt:\n",
    "    KSFDR['ks'][i] = sps.ks_2samp(goods[column],bads[column])[0]\n",
    "    i = i+1"
   ]
  },
  {
   "cell_type": "code",
   "execution_count": 11,
   "metadata": {},
   "outputs": [],
   "source": [
    "#Calculate FDR\n",
    "topRows = int(round(len(tt)*0.03))\n",
    "\n",
    "j = 0\n",
    "for column in tt:\n",
    "    temp1 = tt.sort_values(column,ascending=False).head(topRows)\n",
    "    temp2 = tt.sort_values(column,ascending=True).head(topRows)\n",
    "    needed1 = temp1.loc[:,'fraud_label']\n",
    "    needed2 = temp2.loc[:,'fraud_label']\n",
    "    FDR1 = sum(needed1)/len(bads)\n",
    "    FDR2 = sum(needed2)/len(bads)\n",
    "    FDRate = np.maximum(FDR1,FDR2)\n",
    "    KSFDR.loc[j, 'FDR'] = FDRate\n",
    "    j = j +1"
   ]
  },
  {
   "cell_type": "code",
   "execution_count": 12,
   "metadata": {},
   "outputs": [],
   "source": [
    "KSFDR['rank_ks'] = KSFDR['ks'].rank(ascending = True)\n",
    "KSFDR['rank_FDR'] = KSFDR['FDR'].rank(ascending = True)\n",
    "KSFDR['average_rank'] = (KSFDR['rank_ks'] + KSFDR['rank_FDR']) / 2"
   ]
  },
  {
   "cell_type": "code",
   "execution_count": 14,
   "metadata": {},
   "outputs": [],
   "source": [
    "KSFDR.sort_values(by=['average_rank'], ascending=False, inplace=True)"
   ]
  },
  {
   "cell_type": "code",
   "execution_count": 15,
   "metadata": {},
   "outputs": [],
   "source": [
    "KSFDR.to_csv('KSFDR1.csv', index=False)"
   ]
  },
  {
   "cell_type": "code",
   "execution_count": 17,
   "metadata": {},
   "outputs": [],
   "source": [
    "# spliting training and testing here \n",
    "\n",
    "from sklearn.model_selection import train_test_split\n",
    "train, test = train_test_split(tt, test_size=0.2,random_state=42)"
   ]
  },
  {
   "cell_type": "markdown",
   "metadata": {},
   "source": [
    "## Select top 50 variabels from KSFDR"
   ]
  },
  {
   "cell_type": "code",
   "execution_count": 18,
   "metadata": {},
   "outputs": [],
   "source": [
    "#drop 2 variables and select 50 variables from KSFDR \n",
    "KSFDR.drop(KSFDR.loc[KSFDR['var']=='fraud_label'].index, inplace=True)\n",
    "KSFDR.drop(KSFDR.loc[KSFDR['var']=='random'].index, inplace=True)"
   ]
  },
  {
   "cell_type": "code",
   "execution_count": 25,
   "metadata": {},
   "outputs": [
    {
     "data": {
      "text/plain": [
       "(286, 6)"
      ]
     },
     "execution_count": 25,
     "metadata": {},
     "output_type": "execute_result"
    }
   ],
   "source": [
    "KSFDR.shape"
   ]
  },
  {
   "cell_type": "code",
   "execution_count": 20,
   "metadata": {},
   "outputs": [],
   "source": [
    "var_top50 = KSFDR.nlargest(50,['average_rank']).copy()\n",
    "var_top50 = list(var_top50['var'])"
   ]
  },
  {
   "cell_type": "code",
   "execution_count": 26,
   "metadata": {},
   "outputs": [
    {
     "name": "stdout",
     "output_type": "stream",
     "text": [
      "['addr_lag30_count', 'address_lag30_count', 'addr_#days_since', 'address_#days_since', 'address_lag14_count', 'addr_lag14_count', 'address_lag7_count', 'addr_lag7_count', 'address_lag3_count', 'addr_lag3_count', 'address_lag1_count', 'addr_lag1_count', 'addr-homephone_lag30_count', 'ssn-dob_lag30_count', 'name-dob_lag30_count', 'ssn_lag30_count', 'ssn-name-dob_lag30_count', 'ssn-firstname_lag30_count', 'addr-homephone_#days_since', 'ssn-lastname_lag30_count', 'ssn-name_lag30_count', 'ssn-dob_#days_since', 'addr-homephone_lag14_count', 'name-dob_#days_since', 'ssn_#days_since', 'ssn-firstname_#days_since', 'ssn-name-dob_#days_since', 'ssn-lastname_#days_since', 'name-dob_lag14_count', 'ssn-name_#days_since', 'ssn-dob_lag14_count', 'ssn_lag14_count', 'name_lag30_count', 'ssn-name-dob_lag14_count', 'ssn-firstname_lag14_count', 'ssn-lastname_lag14_count', 'ssn-name_lag14_count', 'address_lag1_lag14_avg', 'addr_lag1_lag14_avg', 'addr-homephone_lag7_count', 'name-dob_lag7_count', 'ssn-dob_lag7_count', 'name_#days_since', 'name_lag14_count', 'ssn_lag7_count', 'ssn-firstname_lag7_count', 'ssn-name-dob_lag7_count', 'ssn-lastname_lag7_count', 'ssn-name_lag7_count', 'homephone_lag7_count']\n"
     ]
    }
   ],
   "source": [
    "print(var_top50)"
   ]
  },
  {
   "cell_type": "code",
   "execution_count": 27,
   "metadata": {},
   "outputs": [],
   "source": [
    "#build train_x and train_y\n",
    "train_x = np.array(train[train.columns.intersection(var_top50)])\n",
    "train_y = np.array(train['fraud_label'])"
   ]
  },
  {
   "cell_type": "markdown",
   "metadata": {},
   "source": [
    "## RFECV "
   ]
  },
  {
   "cell_type": "code",
   "execution_count": 29,
   "metadata": {},
   "outputs": [],
   "source": [
    "#build a timer to track running time\n",
    "def timer(start_time=None):\n",
    "    if not start_time:\n",
    "        start_time = datetime.now()\n",
    "        return start_time\n",
    "    elif start_time:\n",
    "        tmin, tsec = divmod((datetime.now() - start_time).total_seconds(), 60)\n",
    "        print('\\n Time taken: %i minutes and %s seconds.' % (tmin, round(tsec, 2)))"
   ]
  },
  {
   "cell_type": "code",
   "execution_count": 30,
   "metadata": {},
   "outputs": [],
   "source": [
    "#define model here and adjust parameters \n",
    "from sklearn.feature_selection import RFECV\n",
    "\n",
    "model = LogisticRegression()\n",
    "rfecv = RFECV(estimator=model, step=1, cv=2, verbose=3, n_jobs=-1, scoring='roc_auc')"
   ]
  },
  {
   "cell_type": "code",
   "execution_count": 32,
   "metadata": {},
   "outputs": [
    {
     "name": "stdout",
     "output_type": "stream",
     "text": [
      "\n",
      " Time taken: 9 minutes and 47.56 seconds.\n"
     ]
    }
   ],
   "source": [
    "#Run RFECV\n",
    "#Estimate feature importance and time the whole process\n",
    "starttime = timer(None)\n",
    "start_time = timer(None)\n",
    "rfecv.fit(train_x, train_y)\n",
    "timer(start_time)"
   ]
  },
  {
   "cell_type": "code",
   "execution_count": 34,
   "metadata": {},
   "outputs": [
    {
     "data": {
      "image/png": "[encoded data removed]",
      "text/plain": [
       "<Figure size 288x216 with 1 Axes>"
      ]
     },
     "metadata": {
      "needs_background": "light"
     },
     "output_type": "display_data"
    }
   ],
   "source": [
    "plt.figure(figsize=(4, 3))\n",
    "plt.title('Recursive Feature Elimination with Cross-Validation', fontsize=18, fontweight='bold', pad=20)\n",
    "plt.xlabel('Number of features selected', fontsize=14, labelpad=20)\n",
    "plt.ylabel('% Correct Classification', fontsize=14, labelpad=20)\n",
    "plt.plot(range(1, len(rfecv.grid_scores_) + 1), rfecv.grid_scores_, color='#303F9F', linewidth=3)\n",
    "\n",
    "plt.show()"
   ]
  },
  {
   "cell_type": "code",
   "execution_count": 43,
   "metadata": {
    "collapsed": true,
    "jupyter": {
     "outputs_hidden": true
    }
   },
   "outputs": [
    {
     "data": {
      "text/html": [
       "<div>\n",
       "<style scoped>\n",
       "    .dataframe tbody tr th:only-of-type {\n",
       "        vertical-align: middle;\n",
       "    }\n",
       "\n",
       "    .dataframe tbody tr th {\n",
       "        vertical-align: top;\n",
       "    }\n",
       "\n",
       "    .dataframe thead th {\n",
       "        text-align: right;\n",
       "    }\n",
       "</style>\n",
       "<table border=\"1\" class=\"dataframe\">\n",
       "  <thead>\n",
       "    <tr style=\"text-align: right;\">\n",
       "      <th></th>\n",
       "      <th>ranking</th>\n",
       "      <th>variable</th>\n",
       "    </tr>\n",
       "  </thead>\n",
       "  <tbody>\n",
       "    <tr>\n",
       "      <th>0</th>\n",
       "      <td>1</td>\n",
       "      <td>addr-homephone_#days_since</td>\n",
       "    </tr>\n",
       "    <tr>\n",
       "      <th>1</th>\n",
       "      <td>1</td>\n",
       "      <td>addr-homephone_lag14_count</td>\n",
       "    </tr>\n",
       "    <tr>\n",
       "      <th>2</th>\n",
       "      <td>1</td>\n",
       "      <td>addr-homephone_lag30_count</td>\n",
       "    </tr>\n",
       "    <tr>\n",
       "      <th>3</th>\n",
       "      <td>1</td>\n",
       "      <td>addr-homephone_lag7_count</td>\n",
       "    </tr>\n",
       "    <tr>\n",
       "      <th>4</th>\n",
       "      <td>1</td>\n",
       "      <td>addr_#days_since</td>\n",
       "    </tr>\n",
       "    <tr>\n",
       "      <th>5</th>\n",
       "      <td>1</td>\n",
       "      <td>addr_lag14_count</td>\n",
       "    </tr>\n",
       "    <tr>\n",
       "      <th>6</th>\n",
       "      <td>1</td>\n",
       "      <td>addr_lag1_count</td>\n",
       "    </tr>\n",
       "    <tr>\n",
       "      <th>7</th>\n",
       "      <td>1</td>\n",
       "      <td>addr_lag1_lag14_avg</td>\n",
       "    </tr>\n",
       "    <tr>\n",
       "      <th>8</th>\n",
       "      <td>1</td>\n",
       "      <td>addr_lag30_count</td>\n",
       "    </tr>\n",
       "    <tr>\n",
       "      <th>9</th>\n",
       "      <td>1</td>\n",
       "      <td>addr_lag3_count</td>\n",
       "    </tr>\n",
       "    <tr>\n",
       "      <th>10</th>\n",
       "      <td>1</td>\n",
       "      <td>addr_lag7_count</td>\n",
       "    </tr>\n",
       "    <tr>\n",
       "      <th>11</th>\n",
       "      <td>1</td>\n",
       "      <td>address_#days_since</td>\n",
       "    </tr>\n",
       "    <tr>\n",
       "      <th>12</th>\n",
       "      <td>1</td>\n",
       "      <td>address_lag14_count</td>\n",
       "    </tr>\n",
       "    <tr>\n",
       "      <th>13</th>\n",
       "      <td>1</td>\n",
       "      <td>address_lag1_count</td>\n",
       "    </tr>\n",
       "    <tr>\n",
       "      <th>14</th>\n",
       "      <td>1</td>\n",
       "      <td>address_lag1_lag14_avg</td>\n",
       "    </tr>\n",
       "    <tr>\n",
       "      <th>15</th>\n",
       "      <td>1</td>\n",
       "      <td>address_lag30_count</td>\n",
       "    </tr>\n",
       "    <tr>\n",
       "      <th>16</th>\n",
       "      <td>1</td>\n",
       "      <td>address_lag3_count</td>\n",
       "    </tr>\n",
       "    <tr>\n",
       "      <th>17</th>\n",
       "      <td>1</td>\n",
       "      <td>address_lag7_count</td>\n",
       "    </tr>\n",
       "    <tr>\n",
       "      <th>18</th>\n",
       "      <td>1</td>\n",
       "      <td>homephone_lag7_count</td>\n",
       "    </tr>\n",
       "    <tr>\n",
       "      <th>19</th>\n",
       "      <td>1</td>\n",
       "      <td>name-dob_#days_since</td>\n",
       "    </tr>\n",
       "    <tr>\n",
       "      <th>20</th>\n",
       "      <td>1</td>\n",
       "      <td>name-dob_lag14_count</td>\n",
       "    </tr>\n",
       "    <tr>\n",
       "      <th>21</th>\n",
       "      <td>1</td>\n",
       "      <td>name-dob_lag30_count</td>\n",
       "    </tr>\n",
       "    <tr>\n",
       "      <th>22</th>\n",
       "      <td>1</td>\n",
       "      <td>name-dob_lag7_count</td>\n",
       "    </tr>\n",
       "    <tr>\n",
       "      <th>23</th>\n",
       "      <td>1</td>\n",
       "      <td>name_#days_since</td>\n",
       "    </tr>\n",
       "    <tr>\n",
       "      <th>24</th>\n",
       "      <td>1</td>\n",
       "      <td>name_lag14_count</td>\n",
       "    </tr>\n",
       "    <tr>\n",
       "      <th>25</th>\n",
       "      <td>1</td>\n",
       "      <td>name_lag30_count</td>\n",
       "    </tr>\n",
       "    <tr>\n",
       "      <th>26</th>\n",
       "      <td>1</td>\n",
       "      <td>ssn-dob_#days_since</td>\n",
       "    </tr>\n",
       "    <tr>\n",
       "      <th>27</th>\n",
       "      <td>1</td>\n",
       "      <td>ssn-dob_lag14_count</td>\n",
       "    </tr>\n",
       "    <tr>\n",
       "      <th>28</th>\n",
       "      <td>1</td>\n",
       "      <td>ssn-dob_lag30_count</td>\n",
       "    </tr>\n",
       "    <tr>\n",
       "      <th>29</th>\n",
       "      <td>1</td>\n",
       "      <td>ssn-dob_lag7_count</td>\n",
       "    </tr>\n",
       "    <tr>\n",
       "      <th>30</th>\n",
       "      <td>1</td>\n",
       "      <td>ssn-firstname_#days_since</td>\n",
       "    </tr>\n",
       "    <tr>\n",
       "      <th>31</th>\n",
       "      <td>1</td>\n",
       "      <td>ssn-firstname_lag14_count</td>\n",
       "    </tr>\n",
       "    <tr>\n",
       "      <th>32</th>\n",
       "      <td>1</td>\n",
       "      <td>ssn-firstname_lag30_count</td>\n",
       "    </tr>\n",
       "    <tr>\n",
       "      <th>33</th>\n",
       "      <td>1</td>\n",
       "      <td>ssn-firstname_lag7_count</td>\n",
       "    </tr>\n",
       "    <tr>\n",
       "      <th>34</th>\n",
       "      <td>1</td>\n",
       "      <td>ssn-lastname_#days_since</td>\n",
       "    </tr>\n",
       "    <tr>\n",
       "      <th>35</th>\n",
       "      <td>1</td>\n",
       "      <td>ssn-lastname_lag14_count</td>\n",
       "    </tr>\n",
       "    <tr>\n",
       "      <th>36</th>\n",
       "      <td>1</td>\n",
       "      <td>ssn-lastname_lag30_count</td>\n",
       "    </tr>\n",
       "    <tr>\n",
       "      <th>37</th>\n",
       "      <td>1</td>\n",
       "      <td>ssn-lastname_lag7_count</td>\n",
       "    </tr>\n",
       "    <tr>\n",
       "      <th>38</th>\n",
       "      <td>1</td>\n",
       "      <td>ssn-name-dob_#days_since</td>\n",
       "    </tr>\n",
       "    <tr>\n",
       "      <th>39</th>\n",
       "      <td>1</td>\n",
       "      <td>ssn-name-dob_lag14_count</td>\n",
       "    </tr>\n",
       "    <tr>\n",
       "      <th>40</th>\n",
       "      <td>1</td>\n",
       "      <td>ssn-name-dob_lag30_count</td>\n",
       "    </tr>\n",
       "    <tr>\n",
       "      <th>41</th>\n",
       "      <td>1</td>\n",
       "      <td>ssn-name-dob_lag7_count</td>\n",
       "    </tr>\n",
       "    <tr>\n",
       "      <th>42</th>\n",
       "      <td>1</td>\n",
       "      <td>ssn-name_#days_since</td>\n",
       "    </tr>\n",
       "    <tr>\n",
       "      <th>43</th>\n",
       "      <td>1</td>\n",
       "      <td>ssn-name_lag14_count</td>\n",
       "    </tr>\n",
       "    <tr>\n",
       "      <th>44</th>\n",
       "      <td>1</td>\n",
       "      <td>ssn-name_lag30_count</td>\n",
       "    </tr>\n",
       "    <tr>\n",
       "      <th>45</th>\n",
       "      <td>1</td>\n",
       "      <td>ssn-name_lag7_count</td>\n",
       "    </tr>\n",
       "    <tr>\n",
       "      <th>46</th>\n",
       "      <td>1</td>\n",
       "      <td>ssn_#days_since</td>\n",
       "    </tr>\n",
       "    <tr>\n",
       "      <th>47</th>\n",
       "      <td>1</td>\n",
       "      <td>ssn_lag14_count</td>\n",
       "    </tr>\n",
       "    <tr>\n",
       "      <th>48</th>\n",
       "      <td>1</td>\n",
       "      <td>ssn_lag30_count</td>\n",
       "    </tr>\n",
       "    <tr>\n",
       "      <th>49</th>\n",
       "      <td>1</td>\n",
       "      <td>ssn_lag7_count</td>\n",
       "    </tr>\n",
       "  </tbody>\n",
       "</table>\n",
       "</div>"
      ],
      "text/plain": [
       "    ranking                    variable\n",
       "0         1  addr-homephone_#days_since\n",
       "1         1  addr-homephone_lag14_count\n",
       "2         1  addr-homephone_lag30_count\n",
       "3         1   addr-homephone_lag7_count\n",
       "4         1            addr_#days_since\n",
       "5         1            addr_lag14_count\n",
       "6         1             addr_lag1_count\n",
       "7         1         addr_lag1_lag14_avg\n",
       "8         1            addr_lag30_count\n",
       "9         1             addr_lag3_count\n",
       "10        1             addr_lag7_count\n",
       "11        1         address_#days_since\n",
       "12        1         address_lag14_count\n",
       "13        1          address_lag1_count\n",
       "14        1      address_lag1_lag14_avg\n",
       "15        1         address_lag30_count\n",
       "16        1          address_lag3_count\n",
       "17        1          address_lag7_count\n",
       "18        1        homephone_lag7_count\n",
       "19        1        name-dob_#days_since\n",
       "20        1        name-dob_lag14_count\n",
       "21        1        name-dob_lag30_count\n",
       "22        1         name-dob_lag7_count\n",
       "23        1            name_#days_since\n",
       "24        1            name_lag14_count\n",
       "25        1            name_lag30_count\n",
       "26        1         ssn-dob_#days_since\n",
       "27        1         ssn-dob_lag14_count\n",
       "28        1         ssn-dob_lag30_count\n",
       "29        1          ssn-dob_lag7_count\n",
       "30        1   ssn-firstname_#days_since\n",
       "31        1   ssn-firstname_lag14_count\n",
       "32        1   ssn-firstname_lag30_count\n",
       "33        1    ssn-firstname_lag7_count\n",
       "34        1    ssn-lastname_#days_since\n",
       "35        1    ssn-lastname_lag14_count\n",
       "36        1    ssn-lastname_lag30_count\n",
       "37        1     ssn-lastname_lag7_count\n",
       "38        1    ssn-name-dob_#days_since\n",
       "39        1    ssn-name-dob_lag14_count\n",
       "40        1    ssn-name-dob_lag30_count\n",
       "41        1     ssn-name-dob_lag7_count\n",
       "42        1        ssn-name_#days_since\n",
       "43        1        ssn-name_lag14_count\n",
       "44        1        ssn-name_lag30_count\n",
       "45        1         ssn-name_lag7_count\n",
       "46        1             ssn_#days_since\n",
       "47        1             ssn_lag14_count\n",
       "48        1             ssn_lag30_count\n",
       "49        1              ssn_lag7_count"
      ]
     },
     "execution_count": 43,
     "metadata": {},
     "output_type": "execute_result"
    }
   ],
   "source": [
    "#convert features ranking to a dataframe \n",
    "dftrain_x_1 = train[train.columns.intersection(var_top50)]\n",
    "features_rfecv = pd.DataFrame(sorted(zip(map(lambda x: round(x), rfecv.ranking_), dftrain_x_1.columns)),\n",
    "                            columns = ['ranking', 'variable'])"
   ]
  },
  {
   "cell_type": "code",
   "execution_count": 42,
   "metadata": {},
   "outputs": [
    {
     "name": "stdout",
     "output_type": "stream",
     "text": [
      "['addr-homephone_#days_since', 'addr-homephone_lag14_count', 'addr-homephone_lag30_count', 'addr-homephone_lag7_count', 'addr_#days_since', 'addr_lag14_count', 'addr_lag1_count', 'addr_lag1_lag14_avg', 'addr_lag30_count', 'addr_lag3_count', 'addr_lag7_count', 'address_#days_since', 'address_lag14_count', 'address_lag1_count', 'address_lag1_lag14_avg', 'address_lag30_count', 'address_lag3_count', 'address_lag7_count', 'homephone_lag7_count', 'name-dob_#days_since']\n"
     ]
    }
   ],
   "source": [
    "#select top20 features according to the graph \n",
    "features_rfecv = features_rfecv.iloc[:20]\n",
    "features_rfecv_50 = list(features_rfecv['variable'])\n",
    "print(features_rfecv_50)"
   ]
  },
  {
   "cell_type": "markdown",
   "metadata": {},
   "source": [
    "## Log Regression"
   ]
  },
  {
   "cell_type": "code",
   "execution_count": 60,
   "metadata": {},
   "outputs": [],
   "source": [
    "#update train, test, oot dataset \n",
    "X_train = np.array(train[train.columns.intersection(features_rfecv_50)])\n",
    "Y_train = np.array(train['fraud_label'])\n",
    "X_test = np.array(test[test.columns.intersection(features_rfecv_50)])\n",
    "Y_test = np.array(test['fraud_label'])\n",
    "X_oot = np.array(oot[oot.columns.intersection(features_rfecv_50)])\n",
    "Y_oot = np.array(oot['fraud_label'])"
   ]
  },
  {
   "cell_type": "code",
   "execution_count": 61,
   "metadata": {},
   "outputs": [
    {
     "data": {
      "text/plain": [
       "LogisticRegression(C=1.0, class_weight=None, dual=False, fit_intercept=True,\n",
       "                   intercept_scaling=1, l1_ratio=None, max_iter=5000,\n",
       "                   multi_class='warn', n_jobs=None, penalty='l2',\n",
       "                   random_state=None, solver='warn', tol=0.0001, verbose=0,\n",
       "                   warm_start=False)"
      ]
     },
     "execution_count": 61,
     "metadata": {},
     "output_type": "execute_result"
    }
   ],
   "source": [
    "#log regression on train\n",
    "logreg  = LogisticRegression(max_iter=5000)\n",
    "\n",
    "logreg.fit(X_train, Y_train)"
   ]
  },
  {
   "cell_type": "code",
   "execution_count": 73,
   "metadata": {},
   "outputs": [],
   "source": [
    "logit  = LogisticRegression(C=2.0, class_weight=None, dual=False, fit_intercept=True,\n",
    "          intercept_scaling=1, max_iter=1000, multi_class='saga', n_jobs=1,\n",
    "          penalty='l2', random_state=None, solver='liblinear', tol=0.0001,\n",
    "          verbose=0, warm_start=False)"
   ]
  },
  {
   "cell_type": "code",
   "execution_count": 74,
   "metadata": {},
   "outputs": [
    {
     "data": {
      "text/plain": [
       "LogisticRegression(C=1.0, class_weight=None, dual=False, fit_intercept=True,\n",
       "                   intercept_scaling=1, l1_ratio=None, max_iter=5000,\n",
       "                   multi_class='warn', n_jobs=None, penalty='l2',\n",
       "                   random_state=None, solver='warn', tol=0.0001, verbose=0,\n",
       "                   warm_start=False)"
      ]
     },
     "execution_count": 74,
     "metadata": {},
     "output_type": "execute_result"
    }
   ],
   "source": [
    "logreg.fit(X_train, Y_train)"
   ]
  },
  {
   "cell_type": "code",
   "execution_count": 75,
   "metadata": {},
   "outputs": [
    {
     "name": "stdout",
     "output_type": "stream",
     "text": [
      "[0.00642363 0.00558408 0.0055982  ... 0.01330032 0.00725255 0.00823131]\n"
     ]
    }
   ],
   "source": [
    "y_pred_tn = logreg.predict_proba(X_train)\n",
    "print(y_pred_tn[:,1])"
   ]
  },
  {
   "cell_type": "code",
   "execution_count": 76,
   "metadata": {},
   "outputs": [
    {
     "name": "stdout",
     "output_type": "stream",
     "text": [
      "3% FDR for training is  0.4782373906469381\n"
     ]
    }
   ],
   "source": [
    "#3% FDR for training \n",
    "\n",
    "#  calcuate number of records in a 3% bin\n",
    "a = int(round(len(train)*0.03))\n",
    "\n",
    "# count how many fraud records are there in the training data\n",
    "total_fraud_train = len(train[train['fraud_label']==1])\n",
    "\n",
    "train_1 = train.copy()\n",
    "train_1['pred_score'] = y_pred_tn[:,1]\n",
    "\n",
    "# sort training records according to pred_score, so we can get top 3%\n",
    "train_1 = train_1.sort_values(by='pred_score', ascending = False)\n",
    "\n",
    "# count in the top a records (3%) in the training data ranked by pred_score, \n",
    "# the proportion of fraud caught from all the fraud records in the training set\n",
    "print(\"3% FDR for training is \", len(train_1[:a][train_1['fraud_label']==1])/total_fraud_train)\n"
   ]
  },
  {
   "cell_type": "code",
   "execution_count": 50,
   "metadata": {
    "collapsed": true,
    "jupyter": {
     "outputs_hidden": true
    }
   },
   "outputs": [
    {
     "ename": "ValueError",
     "evalue": "Found input variables with inconsistent numbers of samples: [159000, 635996]",
     "output_type": "error",
     "traceback": [
      "\u001b[0;31m---------------------------------------------------------------------------\u001b[0m",
      "\u001b[0;31mValueError\u001b[0m                                Traceback (most recent call last)",
      "\u001b[0;32m<ipython-input-50-b23c5b1f2757>\u001b[0m in \u001b[0;36m<module>\u001b[0;34m\u001b[0m\n\u001b[1;32m      1\u001b[0m \u001b[0;32mfrom\u001b[0m \u001b[0msklearn\u001b[0m\u001b[0;34m.\u001b[0m\u001b[0mmetrics\u001b[0m \u001b[0;32mimport\u001b[0m \u001b[0maccuracy_score\u001b[0m\u001b[0;34m\u001b[0m\u001b[0;34m\u001b[0m\u001b[0m\n\u001b[0;32m----> 2\u001b[0;31m \u001b[0mlog_socre\u001b[0m \u001b[0;34m=\u001b[0m \u001b[0maccuracy_score\u001b[0m\u001b[0;34m(\u001b[0m\u001b[0mY_test\u001b[0m\u001b[0;34m,\u001b[0m \u001b[0my_pred\u001b[0m\u001b[0;34m)\u001b[0m\u001b[0;34m\u001b[0m\u001b[0;34m\u001b[0m\u001b[0m\n\u001b[0m\u001b[1;32m      3\u001b[0m \u001b[0mprint\u001b[0m\u001b[0;34m(\u001b[0m\u001b[0;34m'score for train by log model :'\u001b[0m\u001b[0;34m,\u001b[0m\u001b[0mlog_socre\u001b[0m\u001b[0;34m)\u001b[0m\u001b[0;34m\u001b[0m\u001b[0;34m\u001b[0m\u001b[0m\n",
      "\u001b[0;32m~/anaconda3/lib/python3.7/site-packages/sklearn/metrics/classification.py\u001b[0m in \u001b[0;36maccuracy_score\u001b[0;34m(y_true, y_pred, normalize, sample_weight)\u001b[0m\n\u001b[1;32m    174\u001b[0m \u001b[0;34m\u001b[0m\u001b[0m\n\u001b[1;32m    175\u001b[0m     \u001b[0;31m# Compute accuracy for each possible representation\u001b[0m\u001b[0;34m\u001b[0m\u001b[0;34m\u001b[0m\u001b[0;34m\u001b[0m\u001b[0m\n\u001b[0;32m--> 176\u001b[0;31m     \u001b[0my_type\u001b[0m\u001b[0;34m,\u001b[0m \u001b[0my_true\u001b[0m\u001b[0;34m,\u001b[0m \u001b[0my_pred\u001b[0m \u001b[0;34m=\u001b[0m \u001b[0m_check_targets\u001b[0m\u001b[0;34m(\u001b[0m\u001b[0my_true\u001b[0m\u001b[0;34m,\u001b[0m \u001b[0my_pred\u001b[0m\u001b[0;34m)\u001b[0m\u001b[0;34m\u001b[0m\u001b[0;34m\u001b[0m\u001b[0m\n\u001b[0m\u001b[1;32m    177\u001b[0m     \u001b[0mcheck_consistent_length\u001b[0m\u001b[0;34m(\u001b[0m\u001b[0my_true\u001b[0m\u001b[0;34m,\u001b[0m \u001b[0my_pred\u001b[0m\u001b[0;34m,\u001b[0m \u001b[0msample_weight\u001b[0m\u001b[0;34m)\u001b[0m\u001b[0;34m\u001b[0m\u001b[0;34m\u001b[0m\u001b[0m\n\u001b[1;32m    178\u001b[0m     \u001b[0;32mif\u001b[0m \u001b[0my_type\u001b[0m\u001b[0;34m.\u001b[0m\u001b[0mstartswith\u001b[0m\u001b[0;34m(\u001b[0m\u001b[0;34m'multilabel'\u001b[0m\u001b[0;34m)\u001b[0m\u001b[0;34m:\u001b[0m\u001b[0;34m\u001b[0m\u001b[0;34m\u001b[0m\u001b[0m\n",
      "\u001b[0;32m~/anaconda3/lib/python3.7/site-packages/sklearn/metrics/classification.py\u001b[0m in \u001b[0;36m_check_targets\u001b[0;34m(y_true, y_pred)\u001b[0m\n\u001b[1;32m     69\u001b[0m     \u001b[0my_pred\u001b[0m \u001b[0;34m:\u001b[0m \u001b[0marray\u001b[0m \u001b[0;32mor\u001b[0m \u001b[0mindicator\u001b[0m \u001b[0mmatrix\u001b[0m\u001b[0;34m\u001b[0m\u001b[0;34m\u001b[0m\u001b[0m\n\u001b[1;32m     70\u001b[0m     \"\"\"\n\u001b[0;32m---> 71\u001b[0;31m     \u001b[0mcheck_consistent_length\u001b[0m\u001b[0;34m(\u001b[0m\u001b[0my_true\u001b[0m\u001b[0;34m,\u001b[0m \u001b[0my_pred\u001b[0m\u001b[0;34m)\u001b[0m\u001b[0;34m\u001b[0m\u001b[0;34m\u001b[0m\u001b[0m\n\u001b[0m\u001b[1;32m     72\u001b[0m     \u001b[0mtype_true\u001b[0m \u001b[0;34m=\u001b[0m \u001b[0mtype_of_target\u001b[0m\u001b[0;34m(\u001b[0m\u001b[0my_true\u001b[0m\u001b[0;34m)\u001b[0m\u001b[0;34m\u001b[0m\u001b[0;34m\u001b[0m\u001b[0m\n\u001b[1;32m     73\u001b[0m     \u001b[0mtype_pred\u001b[0m \u001b[0;34m=\u001b[0m \u001b[0mtype_of_target\u001b[0m\u001b[0;34m(\u001b[0m\u001b[0my_pred\u001b[0m\u001b[0;34m)\u001b[0m\u001b[0;34m\u001b[0m\u001b[0;34m\u001b[0m\u001b[0m\n",
      "\u001b[0;32m~/anaconda3/lib/python3.7/site-packages/sklearn/utils/validation.py\u001b[0m in \u001b[0;36mcheck_consistent_length\u001b[0;34m(*arrays)\u001b[0m\n\u001b[1;32m    203\u001b[0m     \u001b[0;32mif\u001b[0m \u001b[0mlen\u001b[0m\u001b[0;34m(\u001b[0m\u001b[0muniques\u001b[0m\u001b[0;34m)\u001b[0m \u001b[0;34m>\u001b[0m \u001b[0;36m1\u001b[0m\u001b[0;34m:\u001b[0m\u001b[0;34m\u001b[0m\u001b[0;34m\u001b[0m\u001b[0m\n\u001b[1;32m    204\u001b[0m         raise ValueError(\"Found input variables with inconsistent numbers of\"\n\u001b[0;32m--> 205\u001b[0;31m                          \" samples: %r\" % [int(l) for l in lengths])\n\u001b[0m\u001b[1;32m    206\u001b[0m \u001b[0;34m\u001b[0m\u001b[0m\n\u001b[1;32m    207\u001b[0m \u001b[0;34m\u001b[0m\u001b[0m\n",
      "\u001b[0;31mValueError\u001b[0m: Found input variables with inconsistent numbers of samples: [159000, 635996]"
     ]
    }
   ],
   "source": [
    "from sklearn.metrics import accuracy_score\n",
    "log_socre = accuracy_score(Y_test, y_pred)\n",
    "print('score for train by log model :',log_socre)"
   ]
  },
  {
   "cell_type": "code",
   "execution_count": 59,
   "metadata": {},
   "outputs": [
    {
     "name": "stdout",
     "output_type": "stream",
     "text": [
      "3% FDR for training is  0.2925801922453829\n"
     ]
    }
   ],
   "source": [
    "\n",
    "#  calcuate number of records in a 3% bin\n",
    "a = int(round(len(train)*0.03))\n",
    "\n",
    "# count how many fraud records are there in the training data\n",
    "total_fraud_train = len(train[train['fraud_label']==1])\n",
    "\n",
    "train_1 = train.copy()\n",
    "train_1['pred_score'] = y_pred\n",
    "\n",
    "# sort training records according to pred_score, so we can get top 3%\n",
    "train_1 = train_1.sort_values(by='pred_score', ascending = False)\n",
    "\n",
    "# count in the top a records (3%) in the training data ranked by pred_score, \n",
    "# the proportion of fraud caught from all the fraud records in the training set\n",
    "print(\"3% FDR for training is \", len(train_1[:a][train_1['fraud_label']==1])/total_fraud_train)\n"
   ]
  },
  {
   "cell_type": "code",
   "execution_count": null,
   "metadata": {},
   "outputs": [],
   "source": []
  }
 ],
 "metadata": {
  "kernelspec": {
   "display_name": "Python 3",
   "language": "python",
   "name": "python3"
  },
  "language_info": {
   "codemirror_mode": {
    "name": "ipython",
    "version": 3
   },
   "file_extension": ".py",
   "mimetype": "text/x-python",
   "name": "python",
   "nbconvert_exporter": "python",
   "pygments_lexer": "ipython3",
   "version": "3.7.3"
  }
 },
 "nbformat": 4,
 "nbformat_minor": 4
}
