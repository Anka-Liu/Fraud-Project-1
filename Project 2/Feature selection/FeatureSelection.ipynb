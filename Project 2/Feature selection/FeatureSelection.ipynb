{
 "cells": [
  {
   "cell_type": "code",
   "execution_count": 3,
   "metadata": {},
   "outputs": [],
   "source": [
    "import warnings\n",
    "warnings.filterwarnings('ignore')\n",
    "from sklearn.linear_model import LogisticRegression\n",
    "from sklearn.metrics import roc_auc_score\n",
    "import pandas as pd\n",
    "import scipy.stats as sps\n",
    "import numpy as np\n",
    "import datetime as dt\n",
    "import seaborn as sns\n",
    "import matplotlib.pyplot as plt\n",
    "import math\n",
    "from mlxtend.feature_selection import SequentialFeatureSelector \n",
    "from sklearn.linear_model import LogisticRegression\n",
    "from mlxtend.plotting import plot_sequential_feature_selection as plot_sfs\n",
    "from datetime import datetime"
   ]
  },
  {
   "cell_type": "code",
   "execution_count": 6,
   "metadata": {},
   "outputs": [],
   "source": [
    "#read datasets \n",
    "tt = pd.read_csv(\"training_testing.csv\")\n",
    "oot = pd.read_csv(\"out_of_time.csv\")\n",
    "KSFDR = pd.read_csv(\"KSFDR.csv\")"
   ]
  },
  {
   "cell_type": "code",
   "execution_count": 45,
   "metadata": {},
   "outputs": [],
   "source": [
    "KSFDR = pd.read_csv(\"KSFDR.csv\")"
   ]
  },
  {
   "cell_type": "code",
   "execution_count": 50,
   "metadata": {},
   "outputs": [
    {
     "data": {
      "text/plain": [
       "(288, 6)"
      ]
     },
     "execution_count": 50,
     "metadata": {},
     "output_type": "execute_result"
    }
   ],
   "source": [
    "KSFDR.shape"
   ]
  },
  {
   "cell_type": "code",
   "execution_count": 5,
   "metadata": {},
   "outputs": [],
   "source": [
    "# spliting training and testing here \n",
    "\n",
    "from sklearn.model_selection import train_test_split\n",
    "train, test = train_test_split(tt, test_size=0.2,random_state=42)"
   ]
  },
  {
   "cell_type": "code",
   "execution_count": 55,
   "metadata": {},
   "outputs": [],
   "source": [
    "#drop 2 variables and select 50 variables from KSFDR \n",
    "KSFDR.drop(KSFDR.loc[KSFDR['var']=='fraud_label'].index, inplace=True)\n",
    "KSFDR.drop(KSFDR.loc[KSFDR['var']=='random'].index, inplace=True)"
   ]
  },
  {
   "cell_type": "code",
   "execution_count": 56,
   "metadata": {},
   "outputs": [
    {
     "data": {
      "text/plain": [
       "(286, 6)"
      ]
     },
     "execution_count": 56,
     "metadata": {},
     "output_type": "execute_result"
    }
   ],
   "source": [
    "KSFDR.shape"
   ]
  },
  {
   "cell_type": "code",
   "execution_count": 57,
   "metadata": {},
   "outputs": [],
   "source": [
    "var_top50 = KSFDR.nlargest(50,['average_rank']).copy()\n",
    "var_top50 = list(var_top50['var'])"
   ]
  },
  {
   "cell_type": "code",
   "execution_count": 79,
   "metadata": {},
   "outputs": [
    {
     "data": {
      "text/plain": [
       "['addr_lag30_count',\n",
       " 'address_lag30_count',\n",
       " 'addr_#days_since',\n",
       " 'address_#days_since',\n",
       " 'address_lag14_count',\n",
       " 'addr_lag14_count',\n",
       " 'address_lag7_count',\n",
       " 'addr_lag7_count',\n",
       " 'address_lag3_count',\n",
       " 'addr_lag3_count',\n",
       " 'address_lag1_count',\n",
       " 'addr_lag1_count',\n",
       " 'addr-homephone_lag30_count',\n",
       " 'ssn-dob_lag30_count',\n",
       " 'name-dob_lag30_count',\n",
       " 'ssn_lag30_count',\n",
       " 'ssn-name-dob_lag30_count',\n",
       " 'ssn-firstname_lag30_count',\n",
       " 'addr-homephone_#days_since',\n",
       " 'ssn-lastname_lag30_count',\n",
       " 'ssn-name_lag30_count',\n",
       " 'ssn-dob_#days_since',\n",
       " 'addr-homephone_lag14_count',\n",
       " 'name-dob_#days_since',\n",
       " 'ssn_#days_since',\n",
       " 'ssn-firstname_#days_since',\n",
       " 'ssn-name-dob_#days_since',\n",
       " 'ssn-lastname_#days_since',\n",
       " 'name-dob_lag14_count',\n",
       " 'ssn-name_#days_since',\n",
       " 'ssn-dob_lag14_count',\n",
       " 'ssn_lag14_count',\n",
       " 'name_lag30_count',\n",
       " 'ssn-name-dob_lag14_count',\n",
       " 'ssn-firstname_lag14_count',\n",
       " 'ssn-lastname_lag14_count',\n",
       " 'ssn-name_lag14_count',\n",
       " 'address_lag1_lag14_avg',\n",
       " 'addr_lag1_lag14_avg',\n",
       " 'addr-homephone_lag7_count',\n",
       " 'name-dob_lag7_count',\n",
       " 'ssn-dob_lag7_count',\n",
       " 'name_lag14_count',\n",
       " 'name_#days_since',\n",
       " 'ssn_lag7_count',\n",
       " 'ssn-firstname_lag7_count',\n",
       " 'ssn-name-dob_lag7_count',\n",
       " 'ssn-lastname_lag7_count',\n",
       " 'ssn-name_lag7_count',\n",
       " 'homephone_lag7_count']"
      ]
     },
     "execution_count": 79,
     "metadata": {},
     "output_type": "execute_result"
    }
   ],
   "source": [
    "var_top50"
   ]
  },
  {
   "cell_type": "code",
   "execution_count": 61,
   "metadata": {},
   "outputs": [],
   "source": [
    "#build train_x and train_y\n",
    "train_x = np.array(train[train.columns.intersection(var_top50)])\n",
    "train_y = np.array(train['fraud_label'])"
   ]
  },
  {
   "cell_type": "code",
   "execution_count": 104,
   "metadata": {},
   "outputs": [
    {
     "data": {
      "text/plain": [
       "array([[ 67.,   1.,   1., ...,   1.,   1.,   1.],\n",
       "       [289.,   1.,   1., ...,   1.,   1.,   1.],\n",
       "       [285.,   1.,   1., ...,   1.,   1.,   1.],\n",
       "       ...,\n",
       "       [ 63.,   1.,   1., ...,   1.,   1.,   1.],\n",
       "       [259.,   1.,   1., ...,   1.,   1.,   1.],\n",
       "       [ 58.,   1.,   1., ...,   1.,   1.,   1.]])"
      ]
     },
     "execution_count": 104,
     "metadata": {},
     "output_type": "execute_result"
    }
   ],
   "source": [
    "train_x"
   ]
  },
  {
   "cell_type": "markdown",
   "metadata": {},
   "source": [
    "## SFS"
   ]
  },
  {
   "cell_type": "code",
   "execution_count": 66,
   "metadata": {},
   "outputs": [],
   "source": [
    "from mlxtend.feature_selection import SequentialFeatureSelector \n",
    "from sklearn.linear_model import LogisticRegression\n",
    "from mlxtend.plotting import plot_sequential_feature_selection as plot_sfs\n",
    "from datetime import datetime"
   ]
  },
  {
   "cell_type": "code",
   "execution_count": 67,
   "metadata": {},
   "outputs": [],
   "source": [
    "def timer(start_time=None):\n",
    "    if not start_time:\n",
    "        start_time = datetime.now()\n",
    "        return start_time\n",
    "    elif start_time:\n",
    "        tmin, tsec = divmod((datetime.now() - start_time).total_seconds(), 60)\n",
    "        print('\\n Time taken: %i minutes and %s seconds.' % (tmin, round(tsec, 2)))"
   ]
  },
  {
   "cell_type": "code",
   "execution_count": 68,
   "metadata": {},
   "outputs": [],
   "source": [
    "model = LogisticRegression()\n",
    "sfs = SequentialFeatureSelector(model, k_features=(15,25),\n",
    "                                forward=True, floating=False, scoring='roc_auc', cv=2, verbose=2, n_jobs=-1)"
   ]
  },
  {
   "cell_type": "code",
   "execution_count": 69,
   "metadata": {
    "collapsed": true,
    "jupyter": {
     "outputs_hidden": true
    }
   },
   "outputs": [
    {
     "name": "stderr",
     "output_type": "stream",
     "text": [
      "[Parallel(n_jobs=-1)]: Using backend LokyBackend with 4 concurrent workers.\n",
      "[Parallel(n_jobs=-1)]: Done  33 tasks      | elapsed:   19.4s\n",
      "[Parallel(n_jobs=-1)]: Done  50 out of  50 | elapsed:   26.6s finished\n",
      "\n",
      "[2020-03-09 23:23:03] Features: 1/25 -- score: 0.6726722783655511[Parallel(n_jobs=-1)]: Using backend LokyBackend with 4 concurrent workers.\n",
      "[Parallel(n_jobs=-1)]: Done  33 tasks      | elapsed:   17.2s\n",
      "[Parallel(n_jobs=-1)]: Done  49 out of  49 | elapsed:   25.0s finished\n",
      "\n",
      "[2020-03-09 23:23:28] Features: 2/25 -- score: 0.754464416993035[Parallel(n_jobs=-1)]: Using backend LokyBackend with 4 concurrent workers.\n",
      "[Parallel(n_jobs=-1)]: Done  33 tasks      | elapsed:   19.8s\n",
      "[Parallel(n_jobs=-1)]: Done  48 out of  48 | elapsed:   29.0s finished\n",
      "\n",
      "[2020-03-09 23:23:57] Features: 3/25 -- score: 0.7804285173649983[Parallel(n_jobs=-1)]: Using backend LokyBackend with 4 concurrent workers.\n",
      "[Parallel(n_jobs=-1)]: Done  33 tasks      | elapsed:   25.3s\n",
      "[Parallel(n_jobs=-1)]: Done  47 out of  47 | elapsed:   33.5s finished\n",
      "\n",
      "[2020-03-09 23:24:30] Features: 4/25 -- score: 0.782066697125349[Parallel(n_jobs=-1)]: Using backend LokyBackend with 4 concurrent workers.\n",
      "[Parallel(n_jobs=-1)]: Done  33 tasks      | elapsed:   36.0s\n",
      "[Parallel(n_jobs=-1)]: Done  46 out of  46 | elapsed:   48.1s finished\n",
      "\n",
      "[2020-03-09 23:25:18] Features: 5/25 -- score: 0.7832873382350372[Parallel(n_jobs=-1)]: Using backend LokyBackend with 4 concurrent workers.\n",
      "[Parallel(n_jobs=-1)]: Done  33 tasks      | elapsed:   44.3s\n",
      "[Parallel(n_jobs=-1)]: Done  45 out of  45 | elapsed:   57.8s finished\n",
      "\n",
      "[2020-03-09 23:26:16] Features: 6/25 -- score: 0.7842451075320114[Parallel(n_jobs=-1)]: Using backend LokyBackend with 4 concurrent workers.\n",
      "[Parallel(n_jobs=-1)]: Done  33 tasks      | elapsed:   48.3s\n",
      "[Parallel(n_jobs=-1)]: Done  44 out of  44 | elapsed:  1.0min finished\n",
      "\n",
      "[2020-03-09 23:27:18] Features: 7/25 -- score: 0.7851669896019559[Parallel(n_jobs=-1)]: Using backend LokyBackend with 4 concurrent workers.\n",
      "[Parallel(n_jobs=-1)]: Done  33 tasks      | elapsed:  1.1min\n",
      "[Parallel(n_jobs=-1)]: Done  43 out of  43 | elapsed:  1.4min finished\n",
      "\n",
      "[2020-03-09 23:28:44] Features: 8/25 -- score: 0.7856740459056318[Parallel(n_jobs=-1)]: Using backend LokyBackend with 4 concurrent workers.\n",
      "[Parallel(n_jobs=-1)]: Done  33 tasks      | elapsed:  1.3min\n",
      "[Parallel(n_jobs=-1)]: Done  42 out of  42 | elapsed:  1.6min finished\n",
      "\n",
      "[2020-03-09 23:30:19] Features: 9/25 -- score: 0.7858281327063547[Parallel(n_jobs=-1)]: Using backend LokyBackend with 4 concurrent workers.\n",
      "[Parallel(n_jobs=-1)]: Done  33 tasks      | elapsed:  1.4min\n",
      "[Parallel(n_jobs=-1)]: Done  41 out of  41 | elapsed:  1.7min finished\n",
      "\n",
      "[2020-03-09 23:32:02] Features: 10/25 -- score: 0.7858632123152034[Parallel(n_jobs=-1)]: Using backend LokyBackend with 4 concurrent workers.\n",
      "[Parallel(n_jobs=-1)]: Done  33 tasks      | elapsed:  1.6min\n",
      "[Parallel(n_jobs=-1)]: Done  40 out of  40 | elapsed:  1.9min finished\n",
      "\n",
      "[2020-03-09 23:33:54] Features: 11/25 -- score: 0.7859005279554052[Parallel(n_jobs=-1)]: Using backend LokyBackend with 4 concurrent workers.\n",
      "[Parallel(n_jobs=-1)]: Done  39 out of  39 | elapsed:  1.8min finished\n",
      "\n",
      "[2020-03-09 23:35:42] Features: 12/25 -- score: 0.7859736786323515[Parallel(n_jobs=-1)]: Using backend LokyBackend with 4 concurrent workers.\n",
      "[Parallel(n_jobs=-1)]: Done  38 out of  38 | elapsed:  2.0min finished\n",
      "\n",
      "[2020-03-09 23:37:41] Features: 13/25 -- score: 0.7860208650569671[Parallel(n_jobs=-1)]: Using backend LokyBackend with 4 concurrent workers.\n",
      "[Parallel(n_jobs=-1)]: Done  37 out of  37 | elapsed:  1.9min finished\n",
      "\n",
      "[2020-03-09 23:39:36] Features: 14/25 -- score: 0.7860675601204039[Parallel(n_jobs=-1)]: Using backend LokyBackend with 4 concurrent workers.\n",
      "[Parallel(n_jobs=-1)]: Done  36 out of  36 | elapsed:  2.0min finished\n",
      "\n",
      "[2020-03-09 23:41:35] Features: 15/25 -- score: 0.7860618857051449[Parallel(n_jobs=-1)]: Using backend LokyBackend with 4 concurrent workers.\n",
      "[Parallel(n_jobs=-1)]: Done  35 out of  35 | elapsed:  2.2min finished\n",
      "\n",
      "[2020-03-09 23:43:49] Features: 16/25 -- score: 0.7860670128054018[Parallel(n_jobs=-1)]: Using backend LokyBackend with 4 concurrent workers.\n",
      "[Parallel(n_jobs=-1)]: Done  34 out of  34 | elapsed:  2.1min finished\n",
      "\n",
      "[2020-03-09 23:45:55] Features: 17/25 -- score: 0.7860890991295542[Parallel(n_jobs=-1)]: Using backend LokyBackend with 4 concurrent workers.\n",
      "[Parallel(n_jobs=-1)]: Done  33 out of  33 | elapsed:  2.1min finished\n",
      "\n",
      "[2020-03-09 23:48:03] Features: 18/25 -- score: 0.7860635617876901[Parallel(n_jobs=-1)]: Using backend LokyBackend with 4 concurrent workers.\n",
      "[Parallel(n_jobs=-1)]: Done  32 out of  32 | elapsed:  2.2min finished\n",
      "\n",
      "[2020-03-09 23:50:14] Features: 19/25 -- score: 0.7860932296836264[Parallel(n_jobs=-1)]: Using backend LokyBackend with 4 concurrent workers.\n",
      "[Parallel(n_jobs=-1)]: Done  31 out of  31 | elapsed:  2.5min finished\n",
      "\n",
      "[2020-03-09 23:52:44] Features: 20/25 -- score: 0.7860886292550338[Parallel(n_jobs=-1)]: Using backend LokyBackend with 4 concurrent workers.\n",
      "[Parallel(n_jobs=-1)]: Done  30 out of  30 | elapsed:  2.7min finished\n",
      "\n",
      "[2020-03-09 23:55:27] Features: 21/25 -- score: 0.7860879010308481[Parallel(n_jobs=-1)]: Using backend LokyBackend with 4 concurrent workers.\n",
      "[Parallel(n_jobs=-1)]: Done  29 out of  29 | elapsed:  2.6min finished\n",
      "\n",
      "[2020-03-09 23:58:04] Features: 22/25 -- score: 0.7860441968942632[Parallel(n_jobs=-1)]: Using backend LokyBackend with 4 concurrent workers.\n",
      "[Parallel(n_jobs=-1)]: Done  28 out of  28 | elapsed:  2.6min finished\n",
      "\n",
      "[2020-03-10 00:00:41] Features: 23/25 -- score: 0.7860542491190785[Parallel(n_jobs=-1)]: Using backend LokyBackend with 4 concurrent workers.\n",
      "[Parallel(n_jobs=-1)]: Done  27 out of  27 | elapsed:  2.6min finished\n",
      "\n",
      "[2020-03-10 00:03:16] Features: 24/25 -- score: 0.7860218054362283[Parallel(n_jobs=-1)]: Using backend LokyBackend with 4 concurrent workers.\n"
     ]
    },
    {
     "name": "stdout",
     "output_type": "stream",
     "text": [
      "\n",
      " Time taken: 43 minutes and 2.39 seconds.\n"
     ]
    },
    {
     "name": "stderr",
     "output_type": "stream",
     "text": [
      "[Parallel(n_jobs=-1)]: Done  26 out of  26 | elapsed:  2.4min finished\n",
      "\n",
      "[2020-03-10 00:05:38] Features: 25/25 -- score: 0.7859916000228226"
     ]
    }
   ],
   "source": [
    "# Estimate feature importance and time the whole process\n",
    "starttime = timer(None)\n",
    "start_time = timer(None)\n",
    "sfs.fit(train_x, train_y)\n",
    "timer(start_time)"
   ]
  },
  {
   "cell_type": "code",
   "execution_count": null,
   "metadata": {},
   "outputs": [],
   "source": [
    "#Time taken: 43 minutes and 2.39 seconds."
   ]
  },
  {
   "cell_type": "code",
   "execution_count": 24,
   "metadata": {
    "collapsed": true,
    "jupyter": {
     "outputs_hidden": true
    }
   },
   "outputs": [
    {
     "name": "stdout",
     "output_type": "stream",
     "text": [
      "{1: {'feature_idx': (49,), 'cv_scores': array([1., 1.]), 'avg_score': 1.0, 'feature_names': ('49',)}, 2: {'feature_idx': (0, 49), 'cv_scores': array([1., 1.]), 'avg_score': 1.0, 'feature_names': ('0', '49')}, 3: {'feature_idx': (0, 1, 49), 'cv_scores': array([1., 1.]), 'avg_score': 1.0, 'feature_names': ('0', '1', '49')}, 4: {'feature_idx': (0, 1, 2, 49), 'cv_scores': array([1., 1.]), 'avg_score': 1.0, 'feature_names': ('0', '1', '2', '49')}, 5: {'feature_idx': (0, 1, 2, 3, 49), 'cv_scores': array([1., 1.]), 'avg_score': 1.0, 'feature_names': ('0', '1', '2', '3', '49')}, 6: {'feature_idx': (0, 1, 2, 3, 4, 49), 'cv_scores': array([1., 1.]), 'avg_score': 1.0, 'feature_names': ('0', '1', '2', '3', '4', '49')}, 7: {'feature_idx': (0, 1, 2, 3, 4, 5, 49), 'cv_scores': array([1., 1.]), 'avg_score': 1.0, 'feature_names': ('0', '1', '2', '3', '4', '5', '49')}, 8: {'feature_idx': (0, 1, 2, 3, 4, 5, 6, 49), 'cv_scores': array([1., 1.]), 'avg_score': 1.0, 'feature_names': ('0', '1', '2', '3', '4', '5', '6', '49')}, 9: {'feature_idx': (0, 1, 2, 3, 4, 5, 6, 7, 49), 'cv_scores': array([1., 1.]), 'avg_score': 1.0, 'feature_names': ('0', '1', '2', '3', '4', '5', '6', '7', '49')}, 10: {'feature_idx': (0, 1, 2, 3, 4, 5, 6, 7, 8, 49), 'cv_scores': array([1., 1.]), 'avg_score': 1.0, 'feature_names': ('0', '1', '2', '3', '4', '5', '6', '7', '8', '49')}, 11: {'feature_idx': (0, 1, 2, 3, 4, 5, 6, 7, 8, 9, 49), 'cv_scores': array([1., 1.]), 'avg_score': 1.0, 'feature_names': ('0', '1', '2', '3', '4', '5', '6', '7', '8', '9', '49')}, 12: {'feature_idx': (0, 1, 2, 3, 4, 5, 6, 7, 8, 9, 10, 49), 'cv_scores': array([1., 1.]), 'avg_score': 1.0, 'feature_names': ('0', '1', '2', '3', '4', '5', '6', '7', '8', '9', '10', '49')}, 13: {'feature_idx': (0, 1, 2, 3, 4, 5, 6, 7, 8, 9, 10, 11, 49), 'cv_scores': array([1., 1.]), 'avg_score': 1.0, 'feature_names': ('0', '1', '2', '3', '4', '5', '6', '7', '8', '9', '10', '11', '49')}, 14: {'feature_idx': (0, 1, 2, 3, 4, 5, 6, 7, 8, 9, 10, 11, 12, 49), 'cv_scores': array([1., 1.]), 'avg_score': 1.0, 'feature_names': ('0', '1', '2', '3', '4', '5', '6', '7', '8', '9', '10', '11', '12', '49')}, 15: {'feature_idx': (0, 1, 2, 3, 4, 5, 6, 7, 8, 9, 10, 11, 12, 13, 49), 'cv_scores': array([1., 1.]), 'avg_score': 1.0, 'feature_names': ('0', '1', '2', '3', '4', '5', '6', '7', '8', '9', '10', '11', '12', '13', '49')}, 16: {'feature_idx': (0, 1, 2, 3, 4, 5, 6, 7, 8, 9, 10, 11, 12, 13, 14, 49), 'cv_scores': array([1., 1.]), 'avg_score': 1.0, 'feature_names': ('0', '1', '2', '3', '4', '5', '6', '7', '8', '9', '10', '11', '12', '13', '14', '49')}, 17: {'feature_idx': (0, 1, 2, 3, 4, 5, 6, 7, 8, 9, 10, 11, 12, 13, 14, 15, 49), 'cv_scores': array([1., 1.]), 'avg_score': 1.0, 'feature_names': ('0', '1', '2', '3', '4', '5', '6', '7', '8', '9', '10', '11', '12', '13', '14', '15', '49')}, 18: {'feature_idx': (0, 1, 2, 3, 4, 5, 6, 7, 8, 9, 10, 11, 12, 13, 14, 15, 16, 49), 'cv_scores': array([1., 1.]), 'avg_score': 1.0, 'feature_names': ('0', '1', '2', '3', '4', '5', '6', '7', '8', '9', '10', '11', '12', '13', '14', '15', '16', '49')}, 19: {'feature_idx': (0, 1, 2, 3, 4, 5, 6, 7, 8, 9, 10, 11, 12, 13, 14, 15, 16, 17, 49), 'cv_scores': array([1., 1.]), 'avg_score': 1.0, 'feature_names': ('0', '1', '2', '3', '4', '5', '6', '7', '8', '9', '10', '11', '12', '13', '14', '15', '16', '17', '49')}, 20: {'feature_idx': (0, 1, 2, 3, 4, 5, 6, 7, 8, 9, 10, 11, 12, 13, 14, 15, 16, 17, 18, 49), 'cv_scores': array([1., 1.]), 'avg_score': 1.0, 'feature_names': ('0', '1', '2', '3', '4', '5', '6', '7', '8', '9', '10', '11', '12', '13', '14', '15', '16', '17', '18', '49')}, 21: {'feature_idx': (0, 1, 2, 3, 4, 5, 6, 7, 8, 9, 10, 11, 12, 13, 14, 15, 16, 17, 18, 19, 49), 'cv_scores': array([1., 1.]), 'avg_score': 1.0, 'feature_names': ('0', '1', '2', '3', '4', '5', '6', '7', '8', '9', '10', '11', '12', '13', '14', '15', '16', '17', '18', '19', '49')}, 22: {'feature_idx': (0, 1, 2, 3, 4, 5, 6, 7, 8, 9, 10, 11, 12, 13, 14, 15, 16, 17, 18, 19, 20, 49), 'cv_scores': array([1., 1.]), 'avg_score': 1.0, 'feature_names': ('0', '1', '2', '3', '4', '5', '6', '7', '8', '9', '10', '11', '12', '13', '14', '15', '16', '17', '18', '19', '20', '49')}, 23: {'feature_idx': (0, 1, 2, 3, 4, 5, 6, 7, 8, 9, 10, 11, 12, 13, 14, 15, 16, 17, 18, 19, 20, 21, 49), 'cv_scores': array([1., 1.]), 'avg_score': 1.0, 'feature_names': ('0', '1', '2', '3', '4', '5', '6', '7', '8', '9', '10', '11', '12', '13', '14', '15', '16', '17', '18', '19', '20', '21', '49')}, 24: {'feature_idx': (0, 1, 2, 3, 4, 5, 6, 7, 8, 9, 10, 11, 12, 13, 14, 15, 16, 17, 18, 19, 20, 21, 22, 49), 'cv_scores': array([1., 1.]), 'avg_score': 1.0, 'feature_names': ('0', '1', '2', '3', '4', '5', '6', '7', '8', '9', '10', '11', '12', '13', '14', '15', '16', '17', '18', '19', '20', '21', '22', '49')}, 25: {'feature_idx': (0, 1, 2, 3, 4, 5, 6, 7, 8, 9, 10, 11, 12, 13, 14, 15, 16, 17, 18, 19, 20, 21, 22, 23, 49), 'cv_scores': array([1., 1.]), 'avg_score': 1.0, 'feature_names': ('0', '1', '2', '3', '4', '5', '6', '7', '8', '9', '10', '11', '12', '13', '14', '15', '16', '17', '18', '19', '20', '21', '22', '23', '49')}}\n",
      "(0, 1, 2, 3, 4, 5, 6, 7, 8, 9, 10, 11, 12, 13, 49)\n",
      "('0', '1', '2', '3', '4', '5', '6', '7', '8', '9', '10', '11', '12', '13', '49')\n"
     ]
    }
   ],
   "source": [
    "print(sfs.subsets_)\n",
    "print(sfs.k_feature_idx_)\n",
    "print(sfs.k_feature_names_)"
   ]
  },
  {
   "cell_type": "code",
   "execution_count": 73,
   "metadata": {},
   "outputs": [
    {
     "data": {
      "text/plain": [
       "<Figure size 1152x648 with 0 Axes>"
      ]
     },
     "metadata": {},
     "output_type": "display_data"
    },
    {
     "data": {
      "image/png": "[encoded data removed]",
      "text/plain": [
       "<Figure size 432x288 with 1 Axes>"
      ]
     },
     "metadata": {
      "needs_background": "light"
     },
     "output_type": "display_data"
    }
   ],
   "source": [
    "plt.figure(figsize=(16, 9))\n",
    "fig1 = plot_sfs(sfs.get_metric_dict(), kind='std_dev', marker='.', ylabel='Cross-validation score (roc_auc)')\n",
    "plt.title('Sequential Forward Floating Selection (StdDev)')\n",
    "plt.xlabel('Number of features tested')\n",
    "plt.ylabel('Cross-validation score (roc_auc)')\n",
    "plt.tight_layout()"
   ]
  },
  {
   "cell_type": "code",
   "execution_count": 112,
   "metadata": {},
   "outputs": [],
   "source": [
    "scoredf = pd.DataFrame.from_dict(sfs.get_metric_dict()).T"
   ]
  },
  {
   "cell_type": "code",
   "execution_count": 71,
   "metadata": {},
   "outputs": [
    {
     "name": "stdout",
     "output_type": "stream",
     "text": [
      " Best score: .0.786093\n",
      " Optimal number of features: 19\n",
      " The selected features are:\n",
      "('1', '4', '9', '10', '11', '12', '15', '17', '20', '21', '23', '24', '32', '36', '37', '39', '40', '41', '44')\n"
     ]
    }
   ],
   "source": [
    "print(' Best score: .%6f' % sfs.k_score_)\n",
    "print(' Optimal number of features: %d' % len(sfs.k_feature_idx_))\n",
    "print(' The selected features are:')\n",
    "print(sfs.k_feature_names_)"
   ]
  },
  {
   "cell_type": "code",
   "execution_count": 111,
   "metadata": {},
   "outputs": [
    {
     "name": "stdout",
     "output_type": "stream",
     "text": [
      "['address_lag30_count', 'address_lag14_count', 'addr_lag3_count', 'address_lag1_count', 'addr_lag1_count', 'addr-homephone_lag30_count', 'ssn_lag30_count', 'ssn-firstname_lag30_count', 'ssn-name_lag30_count', 'ssn-dob_#days_since', 'name-dob_#days_since', 'ssn_#days_since', 'name_lag30_count', 'ssn-name_lag14_count', 'address_lag1_lag14_avg', 'addr-homephone_lag7_count', 'name-dob_lag7_count', 'ssn-dob_lag7_count', 'ssn_lag7_count']\n"
     ]
    }
   ],
   "source": [
    "#match feature index with feature names \n",
    "select_features_index = list(sfs.k_feature_idx_)\n",
    "select_features =[]\n",
    "\n",
    "i = 0\n",
    "for i in select_features_index:\n",
    "    select_features.append(var_top50[i])\n",
    "    i = i + 1\n",
    "\n",
    "print(select_features)"
   ]
  },
  {
   "cell_type": "markdown",
   "metadata": {},
   "source": [
    "## log regression"
   ]
  },
  {
   "cell_type": "code",
   "execution_count": 137,
   "metadata": {},
   "outputs": [],
   "source": [
    "#update train, test, oot dataset \n",
    "X_train = np.array(train[train.columns.intersection(select_features)])\n",
    "Y_train = np.array(train['fraud_label'])\n",
    "X_test = np.array(test[test.columns.intersection(select_features)])\n",
    "Y_test = np.array(test['fraud_label'])\n",
    "X_oot = np.array(oot[oot.columns.intersection(select_features)])\n",
    "Y_oot = np.array(oot['fraud_label'])"
   ]
  },
  {
   "cell_type": "markdown",
   "metadata": {},
   "source": [
    "### training"
   ]
  },
  {
   "cell_type": "code",
   "execution_count": null,
   "metadata": {},
   "outputs": [],
   "source": [
    "logreg  = LogisticRegression(C=1.0, class_weight=None, dual=False, fit_intercept=True,\n",
    "          intercept_scaling=1, max_iter=5000, multi_class='ovr', n_jobs=1,\n",
    "          penalty='l2', random_state=None,tol=0.0001,\n",
    "          verbose=0, warm_start=False)"
   ]
  },
  {
   "cell_type": "code",
   "execution_count": 148,
   "metadata": {},
   "outputs": [
    {
     "data": {
      "text/plain": [
       "LogisticRegression(C=1.0, class_weight=None, dual=False, fit_intercept=True,\n",
       "                   intercept_scaling=1, l1_ratio=None, max_iter=5000,\n",
       "                   multi_class='warn', n_jobs=None, penalty='l2',\n",
       "                   random_state=None, solver='warn', tol=0.0001, verbose=0,\n",
       "                   warm_start=False)"
      ]
     },
     "execution_count": 148,
     "metadata": {},
     "output_type": "execute_result"
    }
   ],
   "source": [
    "#log regression on train\n",
    "logreg  = LogisticRegression(max_iter=5000)\n",
    "\n",
    "logreg.fit(X_train, Y_train)"
   ]
  },
  {
   "cell_type": "code",
   "execution_count": 149,
   "metadata": {},
   "outputs": [],
   "source": [
    "y_pred_tn = logreg.predict(X_train)"
   ]
  },
  {
   "cell_type": "code",
   "execution_count": 150,
   "metadata": {},
   "outputs": [
    {
     "name": "stdout",
     "output_type": "stream",
     "text": [
      "score for train by log model : 0.6844527686709043\n"
     ]
    }
   ],
   "source": [
    "#score for train by log model \n",
    "log_socre_tn = roc_auc_score(Y_train, y_pred_tn)\n",
    "print('score for train by log model :',log_socre_tn)"
   ]
  },
  {
   "cell_type": "code",
   "execution_count": 151,
   "metadata": {},
   "outputs": [
    {
     "name": "stdout",
     "output_type": "stream",
     "text": [
      "3% FDR for training is  0.539832285115304\n"
     ]
    }
   ],
   "source": [
    "#3% FDR for training \n",
    "\n",
    "a = int(round(len(X_train)*0.03))\n",
    "\n",
    "train_1 = train.copy()\n",
    "train_1['pred_score'] = y_pred_tn \n",
    "\n",
    "print(\"3% FDR for training is \",train_1[:a]['pred_score'].sum()/a * 100)"
   ]
  },
  {
   "cell_type": "markdown",
   "metadata": {},
   "source": [
    "### testing"
   ]
  },
  {
   "cell_type": "code",
   "execution_count": 152,
   "metadata": {},
   "outputs": [
    {
     "data": {
      "text/plain": [
       "LogisticRegression(C=1.0, class_weight=None, dual=False, fit_intercept=True,\n",
       "                   intercept_scaling=1, l1_ratio=None, max_iter=5000,\n",
       "                   multi_class='warn', n_jobs=None, penalty='l2',\n",
       "                   random_state=None, solver='warn', tol=0.0001, verbose=0,\n",
       "                   warm_start=False)"
      ]
     },
     "execution_count": 152,
     "metadata": {},
     "output_type": "execute_result"
    }
   ],
   "source": [
    "#log regression on test\n",
    "logreg.fit(X_test, Y_test)"
   ]
  },
  {
   "cell_type": "code",
   "execution_count": 153,
   "metadata": {},
   "outputs": [],
   "source": [
    "y_pred_ts = logreg.predict(X_test)"
   ]
  },
  {
   "cell_type": "code",
   "execution_count": 154,
   "metadata": {},
   "outputs": [
    {
     "name": "stdout",
     "output_type": "stream",
     "text": [
      "score for train by log model : 0.669726766185646\n"
     ]
    }
   ],
   "source": [
    "#score for test by log model\n",
    "log_socre_ts = roc_auc_score(Y_test, y_pred_ts)\n",
    "print('score for train by log model :',log_socre_ts)"
   ]
  },
  {
   "cell_type": "code",
   "execution_count": 155,
   "metadata": {},
   "outputs": [
    {
     "name": "stdout",
     "output_type": "stream",
     "text": [
      "3% FDR for training is  0.5817610062893082\n"
     ]
    }
   ],
   "source": [
    "#3% FDR for training \n",
    "\n",
    "b = int(round(len(X_train)*0.03))\n",
    "\n",
    "test_1 = test.copy()\n",
    "test_1['pred_score'] = y_pred_ts \n",
    "\n",
    "print(\"3% FDR for training is \",test_1[:b]['pred_score'].sum()/b * 100)"
   ]
  },
  {
   "cell_type": "markdown",
   "metadata": {},
   "source": [
    "### oot"
   ]
  },
  {
   "cell_type": "code",
   "execution_count": 156,
   "metadata": {},
   "outputs": [
    {
     "data": {
      "text/plain": [
       "LogisticRegression(C=1.0, class_weight=None, dual=False, fit_intercept=True,\n",
       "                   intercept_scaling=1, l1_ratio=None, max_iter=5000,\n",
       "                   multi_class='warn', n_jobs=None, penalty='l2',\n",
       "                   random_state=None, solver='warn', tol=0.0001, verbose=0,\n",
       "                   warm_start=False)"
      ]
     },
     "execution_count": 156,
     "metadata": {},
     "output_type": "execute_result"
    }
   ],
   "source": [
    "logreg.fit(X_oot, Y_oot)"
   ]
  },
  {
   "cell_type": "code",
   "execution_count": 157,
   "metadata": {},
   "outputs": [],
   "source": [
    "y_pred_oo = logreg.predict(X_oot)"
   ]
  },
  {
   "cell_type": "code",
   "execution_count": 158,
   "metadata": {},
   "outputs": [
    {
     "name": "stdout",
     "output_type": "stream",
     "text": [
      "score for train by log model : 0.6574999347097621\n"
     ]
    }
   ],
   "source": [
    "log_socre_oo = roc_auc_score(Y_oot, y_pred_oo)\n",
    "print('score for train by log model :',log_socre_oo)"
   ]
  },
  {
   "cell_type": "code",
   "execution_count": 159,
   "metadata": {},
   "outputs": [
    {
     "name": "stdout",
     "output_type": "stream",
     "text": [
      "3% FDR for training is  0.5605605605605605\n"
     ]
    }
   ],
   "source": [
    "#3% FDR for training \n",
    "\n",
    "c = int(round(len(X_oot)*0.03))\n",
    "\n",
    "oot_1 = oot.copy()\n",
    "oot_1['pred_score'] = y_pred_oo \n",
    "\n",
    "print(\"3% FDR for training is \",oot_1[:c]['pred_score'].sum()/c * 100)"
   ]
  },
  {
   "cell_type": "code",
   "execution_count": null,
   "metadata": {},
   "outputs": [],
   "source": []
  }
 ],
 "metadata": {
  "kernelspec": {
   "display_name": "Python 3",
   "language": "python",
   "name": "python3"
  },
  "language_info": {
   "codemirror_mode": {
    "name": "ipython",
    "version": 3
   },
   "file_extension": ".py",
   "mimetype": "text/x-python",
   "name": "python",
   "nbconvert_exporter": "python",
   "pygments_lexer": "ipython3",
   "version": "3.7.3"
  }
 },
 "nbformat": 4,
 "nbformat_minor": 4
}
